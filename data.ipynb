{
 "cells": [
  {
   "cell_type": "code",
   "execution_count": 217,
   "id": "6b1dfc32",
   "metadata": {},
   "outputs": [],
   "source": [
    "import itertools\n",
    "import time\n",
    "import os\n",
    "from collections import defaultdict"
   ]
  },
  {
   "cell_type": "code",
   "execution_count": 2,
   "id": "4f03c2cc",
   "metadata": {},
   "outputs": [],
   "source": [
    "from dataclasses import dataclass, field\n",
    "from enum import Enum\n",
    "from requests import Session"
   ]
  },
  {
   "cell_type": "code",
   "execution_count": 16,
   "id": "3f86d32f",
   "metadata": {},
   "outputs": [],
   "source": [
    "import pickle\n",
    "from xml.etree import ElementTree as ET\n",
    "from typing import List, Tuple, Dict"
   ]
  },
  {
   "cell_type": "code",
   "execution_count": 4,
   "id": "d254100f",
   "metadata": {},
   "outputs": [],
   "source": [
    "import numpy as np\n",
    "import pandas as pd"
   ]
  },
  {
   "cell_type": "code",
   "execution_count": 5,
   "id": "ca3b237d",
   "metadata": {},
   "outputs": [],
   "source": [
    "from tqdm import tqdm"
   ]
  },
  {
   "cell_type": "markdown",
   "id": "bd98ee28",
   "metadata": {},
   "source": [
    "---"
   ]
  },
  {
   "cell_type": "code",
   "execution_count": 17,
   "id": "a8d735f9",
   "metadata": {},
   "outputs": [],
   "source": [
    "@dataclass\n",
    "class BGGElement:\n",
    "    id: str\n",
    "\n",
    "\n",
    "@dataclass\n",
    "class Thread(BGGElement):\n",
    "    subject: str\n",
    "    author: str\n",
    "        \n",
    "    posts: List[Tuple[str, str]] = field(repr=False)\n",
    "        \n",
    "@dataclass\n",
    "class Forum(BGGElement):\n",
    "    title: str\n",
    "        \n",
    "    threads: List[Thread] = field(repr=False)    "
   ]
  },
  {
   "cell_type": "markdown",
   "id": "aced1956",
   "metadata": {},
   "source": [
    "---"
   ]
  },
  {
   "cell_type": "code",
   "execution_count": 18,
   "id": "d80ce181",
   "metadata": {},
   "outputs": [],
   "source": [
    "@dataclass\n",
    "class Thing:\n",
    "    kind = 'thing'\n",
    "    \n",
    "    id: str\n",
    "     \n",
    "    \n",
    "@dataclass\n",
    "class ForumContainer:\n",
    "    _forumlist: Dict[str, Forum] = field(init=False, repr=False, default_factory=dict)\n",
    "        \n",
    "    def __getitem__(self, title):\n",
    "        return self._forumlist[title]\n",
    "    \n",
    "    def __setitem__(self, title, forum):\n",
    "        if not isinstance(forum, Forum):\n",
    "            raise RuntimeError('non-Forum passed')\n",
    "        self._forumlist[title] = forum\n",
    "        \n",
    "    def load_forumlist(self, forumlist):\n",
    "        for forum in forumlist:\n",
    "            self[forum.title] = forum\n",
    "        \n",
    "    def titles(self):\n",
    "        return self._forumlist.keys()\n",
    "    \n",
    "    def forums(self):\n",
    "        return self._forumlist.values()\n",
    "    \n",
    "    def items(self):\n",
    "        return self._forumlist.items()\n",
    "    \n",
    "    def __iter__(self):\n",
    "        return iter(self._forumlist)\n",
    "\n",
    "\n",
    "@dataclass\n",
    "class BoardGame(Thing, ForumContainer):\n",
    "    kind = 'boardgame'\n",
    "    \n",
    "    name: str\n",
    "    description: str = field(repr=False)\n",
    "    image: str = field(repr=False)\n",
    "    yearpublished: int\n",
    "        \n",
    "    minage: int = field(repr=False)\n",
    "        \n",
    "    minplaytime: int\n",
    "    maxplaytime: int\n",
    "        \n",
    "    minplayers: int\n",
    "    maxplayers: int\n",
    "    nplayers_best: str\n",
    "        \n",
    "    categories: List[str] = field(repr=False)\n",
    "        \n",
    "    def __str__(self):\n",
    "        return f'''\n",
    "        {self.image}\n",
    "        {self.name} ({self.yearpublished})\n",
    "        R: {self.minage}+\n",
    "        \n",
    "        {self.description}\n",
    "        \n",
    "        Playtime: {self.minplaytime} - {self.maxplaytime}\n",
    "        Players: {self.minplayers} - {self.maxplayers} ({self.nplayers_best})\n",
    "        \n",
    "        {self.categories}\n",
    "        '''\n",
    "    \n",
    "    @staticmethod\n",
    "    def from_xml(item_xml):\n",
    "        id_ = item_xml.get('id')\n",
    "        attrs = dict()\n",
    "\n",
    "        for attr in (\n",
    "            ('name', str), ('description', str),\n",
    "            ('yearpublished', int),\n",
    "            ('minplaytime', int), ('maxplaytime', int),\n",
    "            ('minplayers', int), ('maxplayers', int),\n",
    "            ('minage', int),\n",
    "        ):\n",
    "            attr, cast = attr\n",
    "            attrs[attr] = cast(item_xml.find(attr).get('value'))\n",
    "\n",
    "\n",
    "        for attr in (\n",
    "            ('image', str),\n",
    "            ('description', str),\n",
    "        ):\n",
    "            attr, cast = attr\n",
    "            attrs[attr] = cast(item_xml.find(attr).text)\n",
    "\n",
    "\n",
    "        nplayers_tag = find_tag_by_attr(item_xml, 'poll', 'name', 'suggested_numplayers')\n",
    "        nplayers_poll = [\n",
    "            (\n",
    "                result.get('numplayers'),\n",
    "                int(find_tag_by_attr(result, 'result', 'value', 'Best').get('numvotes'))\n",
    "            )\n",
    "            for result in nplayers_tag\n",
    "        ]\n",
    "        attrs['nplayers_best'] = sorted(nplayers_poll, key=lambda x: x[1]).pop()[0]\n",
    "\n",
    "\n",
    "        attrs['categories'] = [\n",
    "            link.get('value')\n",
    "            for link in find_tags_by_attr(item_xml, 'link', 'type', 'boardgamecategory')\n",
    "        ]\n",
    "\n",
    "        return BoardGame(id_, **attrs)\n",
    "        \n",
    "        \n",
    "@dataclass(frozen=True)\n",
    "class User:\n",
    "    login: str"
   ]
  },
  {
   "cell_type": "markdown",
   "id": "4a02a353",
   "metadata": {},
   "source": [
    "---"
   ]
  },
  {
   "cell_type": "code",
   "execution_count": 19,
   "id": "d7502fb3",
   "metadata": {},
   "outputs": [],
   "source": [
    "def find_tags_by_attr(xml_tree, tag, attr_key, attr_value):\n",
    "    return [\n",
    "        cand for cand in xml_tree.findall(tag)\n",
    "        if cand.get(attr_key) == attr_value\n",
    "    ]"
   ]
  },
  {
   "cell_type": "code",
   "execution_count": 20,
   "id": "171df133",
   "metadata": {},
   "outputs": [],
   "source": [
    "def find_tag_by_attr(xml_tree, tag, attr_key, attr_value):\n",
    "    return find_tags_by_attr(xml_tree, tag, attr_key, attr_value).pop()"
   ]
  },
  {
   "cell_type": "markdown",
   "id": "e552972d",
   "metadata": {},
   "source": [
    "---"
   ]
  },
  {
   "cell_type": "code",
   "execution_count": 186,
   "id": "a36f55be",
   "metadata": {},
   "outputs": [],
   "source": [
    "BGG_ROOT_PATH = 'https://boardgamegeek.com/xmlapi2/'\n",
    "\n",
    "FORUMLIST_SLEEP = 5\n",
    "THREAD_SLEEP = 2\n",
    "\n",
    "COLLECTION_SLEEP = 0.5\n",
    "COLLECTION_TIMEOUT = 60\n",
    "\n",
    "\n",
    "class BggSession(Session):\n",
    "    def get_things(self, thing_class, ids):\n",
    "        request_params = {\n",
    "            'id': ','.join(ids),\n",
    "            'type': thing_class.kind,\n",
    "            'pagesize': 100,\n",
    "        }\n",
    "        response = self.get(BGG_ROOT_PATH + 'thing', params=request_params)\n",
    "        if not response.ok:\n",
    "            raise RuntimeError(response.content)\n",
    "        \n",
    "        return [thing_class.from_xml(item) for item in ET.fromstring(response.content)]\n",
    "    \n",
    "    def get_hotest(self, thing_class):\n",
    "        response = self.get(BGG_ROOT_PATH + 'hot', params={'type': thing_class.kind})\n",
    "        if not response.ok:\n",
    "            raise RuntimeError(response.content)\n",
    "        \n",
    "        ids = [item.get('id') for item in ET.fromstring(response.content)]\n",
    "            \n",
    "        return self.get_things(thing_class, ids)\n",
    "    \n",
    "    def get_thread_posts(self, thread_id):\n",
    "        response = self.get(BGG_ROOT_PATH + 'thread', params={'id': thread_id})\n",
    "        if not response.ok:\n",
    "            raise RuntimeError(response.content)\n",
    "\n",
    "        tree = ET.fromstring(response.content)\n",
    "        return [\n",
    "            (post.get('username'), post.find('body').text)\n",
    "            for post in tree.find('articles')\n",
    "        ]\n",
    "    \n",
    "    def get_forum(self, forum_id):\n",
    "        response = self.get(BGG_ROOT_PATH + 'forum', params={'id': forum_id})\n",
    "        if not response.ok:\n",
    "            raise RuntimeError(response.content)\n",
    "\n",
    "        tree = ET.fromstring(response.content)\n",
    "        threads = list()\n",
    "        for thread in tree.find('threads'):\n",
    "            time.sleep(THREAD_SLEEP)\n",
    "            \n",
    "            threads.append(Thread(\n",
    "                thread.get('id'),\n",
    "                subject=thread.get('subject'), author=thread.get('author'),\n",
    "                posts=self.get_thread_posts(thread.get('id'))\n",
    "            ))\n",
    "        \n",
    "        return Forum(forum_id, tree.get('title'), threads)\n",
    "    \n",
    "    def get_forumlist(self, thing_id):\n",
    "        response = self.get(BGG_ROOT_PATH + 'forumlist', params={'type': 'thing', 'id': thing_id})\n",
    "        if not response.ok:\n",
    "            raise RuntimeError(response.content)\n",
    "            \n",
    "        tree = ET.fromstring(response.content)\n",
    "        forums = list()\n",
    "        for forum_tag in tqdm(tree, desc=f'Thing {thing_id} ForumList grep'):\n",
    "            time.sleep(FORUMLIST_SLEEP)\n",
    "            forums.append(self.get_forum(forum_tag.get('id')))\n",
    "            \n",
    "        return forums\n",
    "    \n",
    "    def get_user_rating(self, username, ids=None, timeout=COLLECTION_TIMEOUT):\n",
    "        url = BGG_ROOT_PATH + 'collection'\n",
    "        request_params = {\n",
    "            'username': username,\n",
    "            'stats': 1,\n",
    "            'brief': 1,\n",
    "        }\n",
    "        if ids is not None:\n",
    "            request_params['id'] = ','.join(ids)\n",
    "\n",
    "        response = self.get(url, params=request_params)\n",
    "        if response.status_code not in [200, 202]:\n",
    "            raise RuntimeError(response.content)\n",
    "\n",
    "        it = 0\n",
    "        while response.status_code != 200:\n",
    "            if (it * COLLECTION_SLEEP) >= COLLECTION_TIMEOUT:\n",
    "                raise RuntimeError('Request timeout')\n",
    "\n",
    "            time.sleep(COLLECTION_SLEEP)\n",
    "            response = self.get(url, params=request_params)\n",
    "            it += 1\n",
    "\n",
    "        tree = ET.fromstring(response.content)\n",
    "        rates = dict()\n",
    "        for item in tree:\n",
    "            id_ = item.get('objectid')\n",
    "            stats = item.find('stats')\n",
    "            if not stats:\n",
    "                return {}\n",
    "            \n",
    "            rating = stats.find('rating').get('value')\n",
    "            if rating != 'N/A':\n",
    "                rates[id_] = float(rating)\n",
    "\n",
    "        return rates"
   ]
  },
  {
   "cell_type": "markdown",
   "id": "1972fc93",
   "metadata": {},
   "source": [
    "---"
   ]
  },
  {
   "cell_type": "code",
   "execution_count": 22,
   "id": "8e857474",
   "metadata": {},
   "outputs": [],
   "source": [
    "SNAPSHOT_PATH = 'snapshot'"
   ]
  },
  {
   "cell_type": "code",
   "execution_count": 24,
   "id": "a3486e88",
   "metadata": {},
   "outputs": [],
   "source": [
    "bgg_session = BggSession()"
   ]
  },
  {
   "cell_type": "code",
   "execution_count": 26,
   "id": "38fec7c4",
   "metadata": {},
   "outputs": [
    {
     "name": "stderr",
     "output_type": "stream",
     "text": [
      "Thing 291453 ForumList grep: 100%|██████████| 10/10 [02:08<00:00, 12.86s/it]\n"
     ]
    },
    {
     "name": "stdout",
     "output_type": "stream",
     "text": [
      "0 291453 SUCCESS"
     ]
    },
    {
     "name": "stderr",
     "output_type": "stream",
     "text": [
      "Thing 342942 ForumList grep: 100%|██████████| 10/10 [09:33<00:00, 57.40s/it]\n"
     ]
    },
    {
     "name": "stdout",
     "output_type": "stream",
     "text": [
      "1 342942 SUCCESS"
     ]
    },
    {
     "name": "stderr",
     "output_type": "stream",
     "text": [
      "Thing 363204 ForumList grep: 100%|██████████| 10/10 [00:59<00:00,  5.94s/it]\n"
     ]
    },
    {
     "name": "stdout",
     "output_type": "stream",
     "text": [
      "2 363204 SUCCESS"
     ]
    },
    {
     "name": "stderr",
     "output_type": "stream",
     "text": [
      "Thing 300905 ForumList grep: 100%|██████████| 10/10 [01:01<00:00,  6.16s/it]\n"
     ]
    },
    {
     "name": "stdout",
     "output_type": "stream",
     "text": [
      "3 300905 SUCCESS"
     ]
    },
    {
     "name": "stderr",
     "output_type": "stream",
     "text": [
      "Thing 328479 ForumList grep: 100%|██████████| 10/10 [02:55<00:00, 17.55s/it]\n"
     ]
    },
    {
     "name": "stdout",
     "output_type": "stream",
     "text": [
      "4 328479 SUCCESS"
     ]
    },
    {
     "name": "stderr",
     "output_type": "stream",
     "text": [
      "Thing 363369 ForumList grep: 100%|██████████| 10/10 [01:02<00:00,  6.20s/it]\n"
     ]
    },
    {
     "name": "stdout",
     "output_type": "stream",
     "text": [
      "5 363369 SUCCESS"
     ]
    },
    {
     "name": "stderr",
     "output_type": "stream",
     "text": [
      "Thing 246784 ForumList grep: 100%|██████████| 10/10 [05:43<00:00, 34.32s/it]\n"
     ]
    },
    {
     "name": "stdout",
     "output_type": "stream",
     "text": [
      "6 246784 SUCCESS"
     ]
    },
    {
     "name": "stderr",
     "output_type": "stream",
     "text": [
      "Thing 322656 ForumList grep: 100%|██████████| 10/10 [04:41<00:00, 28.19s/it]\n"
     ]
    },
    {
     "name": "stdout",
     "output_type": "stream",
     "text": [
      "7 322656 SUCCESS"
     ]
    },
    {
     "name": "stderr",
     "output_type": "stream",
     "text": [
      "Thing 295947 ForumList grep: 100%|██████████| 10/10 [06:57<00:00, 41.77s/it]\n",
      "Thing 357203 ForumList grep:   0%|          | 0/10 [00:00<?, ?it/s]"
     ]
    },
    {
     "name": "stdout",
     "output_type": "stream",
     "text": [
      "8 295947 SUCCESS"
     ]
    },
    {
     "name": "stderr",
     "output_type": "stream",
     "text": [
      "Thing 357203 ForumList grep: 100%|██████████| 10/10 [00:54<00:00,  5.49s/it]\n",
      "Thing 359871 ForumList grep:   0%|          | 0/10 [00:00<?, ?it/s]"
     ]
    },
    {
     "name": "stdout",
     "output_type": "stream",
     "text": [
      "9 357203 SUCCESS"
     ]
    },
    {
     "name": "stderr",
     "output_type": "stream",
     "text": [
      "Thing 359871 ForumList grep: 100%|██████████| 10/10 [02:39<00:00, 15.96s/it]\n"
     ]
    },
    {
     "name": "stdout",
     "output_type": "stream",
     "text": [
      "10 359871 SUCCESS"
     ]
    },
    {
     "name": "stderr",
     "output_type": "stream",
     "text": [
      "Thing 316554 ForumList grep: 100%|██████████| 10/10 [12:23<00:00, 74.40s/it]\n"
     ]
    },
    {
     "name": "stdout",
     "output_type": "stream",
     "text": [
      "11 316554 SUCCESS"
     ]
    },
    {
     "name": "stderr",
     "output_type": "stream",
     "text": [
      "Thing 354886 ForumList grep: 100%|██████████| 10/10 [01:08<00:00,  6.88s/it]\n"
     ]
    },
    {
     "name": "stdout",
     "output_type": "stream",
     "text": [
      "12 354886 SUCCESS"
     ]
    },
    {
     "name": "stderr",
     "output_type": "stream",
     "text": [
      "Thing 311610 ForumList grep: 100%|██████████| 10/10 [01:12<00:00,  7.24s/it]\n"
     ]
    },
    {
     "name": "stdout",
     "output_type": "stream",
     "text": [
      "13 311610 SUCCESS"
     ]
    },
    {
     "name": "stderr",
     "output_type": "stream",
     "text": [
      "Thing 285774 ForumList grep: 100%|██████████| 10/10 [15:30<00:00, 93.03s/it]\n"
     ]
    },
    {
     "name": "stdout",
     "output_type": "stream",
     "text": [
      "14 285774 SUCCESS"
     ]
    },
    {
     "name": "stderr",
     "output_type": "stream",
     "text": [
      "Thing 347013 ForumList grep: 100%|██████████| 10/10 [01:55<00:00, 11.55s/it]\n",
      "Thing 162886 ForumList grep:   0%|          | 0/10 [00:00<?, ?it/s]"
     ]
    },
    {
     "name": "stdout",
     "output_type": "stream",
     "text": [
      "15 347013 SUCCESS"
     ]
    },
    {
     "name": "stderr",
     "output_type": "stream",
     "text": [
      "Thing 162886 ForumList grep: 100%|██████████| 10/10 [19:55<00:00, 119.55s/it]\n",
      "Thing 227935 ForumList grep:   0%|          | 0/10 [00:00<?, ?it/s]"
     ]
    },
    {
     "name": "stdout",
     "output_type": "stream",
     "text": [
      "16 162886 SUCCESS"
     ]
    },
    {
     "name": "stderr",
     "output_type": "stream",
     "text": [
      "Thing 227935 ForumList grep: 100%|██████████| 10/10 [06:17<00:00, 37.70s/it]\n"
     ]
    },
    {
     "name": "stdout",
     "output_type": "stream",
     "text": [
      "17 227935 SUCCESS"
     ]
    },
    {
     "name": "stderr",
     "output_type": "stream",
     "text": [
      "Thing 12 ForumList grep: 100%|██████████| 10/10 [11:39<00:00, 69.98s/it]\n",
      "Thing 310873 ForumList grep:   0%|          | 0/10 [00:00<?, ?it/s]"
     ]
    },
    {
     "name": "stdout",
     "output_type": "stream",
     "text": [
      "18 12 SUCCESS"
     ]
    },
    {
     "name": "stderr",
     "output_type": "stream",
     "text": [
      "Thing 310873 ForumList grep: 100%|██████████| 10/10 [07:03<00:00, 42.34s/it]\n"
     ]
    },
    {
     "name": "stdout",
     "output_type": "stream",
     "text": [
      "19 310873 SUCCESS"
     ]
    },
    {
     "name": "stderr",
     "output_type": "stream",
     "text": [
      "Thing 354892 ForumList grep: 100%|██████████| 10/10 [00:55<00:00,  5.57s/it]\n"
     ]
    },
    {
     "name": "stdout",
     "output_type": "stream",
     "text": [
      "20 354892 SUCCESS"
     ]
    },
    {
     "name": "stderr",
     "output_type": "stream",
     "text": [
      "Thing 167791 ForumList grep: 100%|██████████| 10/10 [26:25<00:00, 158.50s/it]\n"
     ]
    },
    {
     "name": "stdout",
     "output_type": "stream",
     "text": [
      "21 167791 SUCCESS"
     ]
    },
    {
     "name": "stderr",
     "output_type": "stream",
     "text": [
      "Thing 237182 ForumList grep: 100%|██████████| 10/10 [26:35<00:00, 159.57s/it]\n"
     ]
    },
    {
     "name": "stdout",
     "output_type": "stream",
     "text": [
      "22 237182 SUCCESS"
     ]
    },
    {
     "name": "stderr",
     "output_type": "stream",
     "text": [
      "Thing 288080 ForumList grep: 100%|██████████| 10/10 [02:47<00:00, 16.79s/it]\n"
     ]
    },
    {
     "name": "stdout",
     "output_type": "stream",
     "text": [
      "23 288080 SUCCESS"
     ]
    },
    {
     "name": "stderr",
     "output_type": "stream",
     "text": [
      "Thing 205637 ForumList grep:  80%|████████  | 8/10 [17:29<04:22, 131.24s/it]\n"
     ]
    },
    {
     "name": "stdout",
     "output_type": "stream",
     "text": [
      "24 205637 FAILED\n"
     ]
    },
    {
     "name": "stderr",
     "output_type": "stream",
     "text": [
      "Thing 84876 ForumList grep: 100%|██████████| 10/10 [11:52<00:00, 71.30s/it]\n"
     ]
    },
    {
     "name": "stdout",
     "output_type": "stream",
     "text": [
      "25 84876 SUCCESS"
     ]
    },
    {
     "name": "stderr",
     "output_type": "stream",
     "text": [
      "Thing 312484 ForumList grep: 100%|██████████| 10/10 [10:43<00:00, 64.32s/it]\n"
     ]
    },
    {
     "name": "stdout",
     "output_type": "stream",
     "text": [
      "26 312484 SUCCESS"
     ]
    },
    {
     "name": "stderr",
     "output_type": "stream",
     "text": [
      "Thing 311193 ForumList grep: 100%|██████████| 10/10 [06:38<00:00, 39.80s/it]\n"
     ]
    },
    {
     "name": "stdout",
     "output_type": "stream",
     "text": [
      "27 311193 SUCCESS"
     ]
    },
    {
     "name": "stderr",
     "output_type": "stream",
     "text": [
      "Thing 174430 ForumList grep:  80%|████████  | 8/10 [18:12<04:33, 136.53s/it]\n",
      "Thing 224517 ForumList grep:   0%|          | 0/10 [00:00<?, ?it/s]"
     ]
    },
    {
     "name": "stdout",
     "output_type": "stream",
     "text": [
      "28 174430 FAILED\n"
     ]
    },
    {
     "name": "stderr",
     "output_type": "stream",
     "text": [
      "Thing 224517 ForumList grep: 100%|██████████| 10/10 [11:13<00:00, 67.38s/it]\n",
      "Thing 299684 ForumList grep:   0%|          | 0/10 [00:00<?, ?it/s]"
     ]
    },
    {
     "name": "stdout",
     "output_type": "stream",
     "text": [
      "29 224517 SUCCESS"
     ]
    },
    {
     "name": "stderr",
     "output_type": "stream",
     "text": [
      "Thing 299684 ForumList grep: 100%|██████████| 10/10 [04:54<00:00, 29.43s/it]\n"
     ]
    },
    {
     "name": "stdout",
     "output_type": "stream",
     "text": [
      "30 299684 SUCCESS"
     ]
    },
    {
     "name": "stderr",
     "output_type": "stream",
     "text": [
      "Thing 266192 ForumList grep: 100%|██████████| 10/10 [12:26<00:00, 74.65s/it]\n"
     ]
    },
    {
     "name": "stdout",
     "output_type": "stream",
     "text": [
      "31 266192 SUCCESS"
     ]
    },
    {
     "name": "stderr",
     "output_type": "stream",
     "text": [
      "Thing 284189 ForumList grep: 100%|██████████| 10/10 [05:28<00:00, 32.81s/it]\n"
     ]
    },
    {
     "name": "stdout",
     "output_type": "stream",
     "text": [
      "32 284189 SUCCESS"
     ]
    },
    {
     "name": "stderr",
     "output_type": "stream",
     "text": [
      "Thing 341919 ForumList grep: 100%|██████████| 10/10 [00:59<00:00,  5.97s/it]\n",
      "Thing 320718 ForumList grep:   0%|          | 0/10 [00:00<?, ?it/s]"
     ]
    },
    {
     "name": "stdout",
     "output_type": "stream",
     "text": [
      "33 341919 SUCCESS"
     ]
    },
    {
     "name": "stderr",
     "output_type": "stream",
     "text": [
      "Thing 320718 ForumList grep: 100%|██████████| 10/10 [03:44<00:00, 22.42s/it]\n",
      "Thing 303669 ForumList grep:   0%|          | 0/10 [00:00<?, ?it/s]"
     ]
    },
    {
     "name": "stdout",
     "output_type": "stream",
     "text": [
      "34 320718 SUCCESS"
     ]
    },
    {
     "name": "stderr",
     "output_type": "stream",
     "text": [
      "Thing 303669 ForumList grep: 100%|██████████| 10/10 [00:57<00:00,  5.74s/it]\n",
      "Thing 352263 ForumList grep:   0%|          | 0/10 [00:00<?, ?it/s]"
     ]
    },
    {
     "name": "stdout",
     "output_type": "stream",
     "text": [
      "35 303669 SUCCESS"
     ]
    },
    {
     "name": "stderr",
     "output_type": "stream",
     "text": [
      "Thing 352263 ForumList grep:  30%|███       | 3/10 [12:29<29:09, 249.86s/it]\n"
     ]
    },
    {
     "name": "stdout",
     "output_type": "stream",
     "text": [
      "36 352263 FAILED\n"
     ]
    },
    {
     "name": "stderr",
     "output_type": "stream",
     "text": [
      "Thing 199792 ForumList grep: 100%|██████████| 10/10 [12:55<00:00, 77.53s/it]\n"
     ]
    },
    {
     "name": "stdout",
     "output_type": "stream",
     "text": [
      "37 199792 SUCCESS"
     ]
    },
    {
     "name": "stderr",
     "output_type": "stream",
     "text": [
      "Thing 318560 ForumList grep: 100%|██████████| 10/10 [03:10<00:00, 19.09s/it]\n"
     ]
    },
    {
     "name": "stdout",
     "output_type": "stream",
     "text": [
      "38 318560 SUCCESS"
     ]
    },
    {
     "name": "stderr",
     "output_type": "stream",
     "text": [
      "Thing 352697 ForumList grep: 100%|██████████| 10/10 [01:32<00:00,  9.25s/it]\n"
     ]
    },
    {
     "name": "stdout",
     "output_type": "stream",
     "text": [
      "39 352697 SUCCESS"
     ]
    },
    {
     "name": "stderr",
     "output_type": "stream",
     "text": [
      "Thing 331571 ForumList grep: 100%|██████████| 10/10 [01:05<00:00,  6.58s/it]\n",
      "Thing 246900 ForumList grep:   0%|          | 0/10 [00:00<?, ?it/s]"
     ]
    },
    {
     "name": "stdout",
     "output_type": "stream",
     "text": [
      "40 331571 SUCCESS"
     ]
    },
    {
     "name": "stderr",
     "output_type": "stream",
     "text": [
      "Thing 246900 ForumList grep: 100%|██████████| 10/10 [12:48<00:00, 76.84s/it]\n"
     ]
    },
    {
     "name": "stdout",
     "output_type": "stream",
     "text": [
      "41 246900 SUCCESS"
     ]
    },
    {
     "name": "stderr",
     "output_type": "stream",
     "text": [
      "Thing 256680 ForumList grep: 100%|██████████| 10/10 [08:32<00:00, 51.25s/it]\n",
      "Thing 169786 ForumList grep:   0%|          | 0/10 [00:00<?, ?it/s]"
     ]
    },
    {
     "name": "stdout",
     "output_type": "stream",
     "text": [
      "42 256680 SUCCESS"
     ]
    },
    {
     "name": "stderr",
     "output_type": "stream",
     "text": [
      "Thing 169786 ForumList grep: 100%|██████████| 10/10 [16:13<00:00, 97.40s/it]\n",
      "Thing 167355 ForumList grep:   0%|          | 0/10 [00:00<?, ?it/s]"
     ]
    },
    {
     "name": "stdout",
     "output_type": "stream",
     "text": [
      "43 169786 SUCCESS"
     ]
    },
    {
     "name": "stderr",
     "output_type": "stream",
     "text": [
      "Thing 167355 ForumList grep:  30%|███       | 3/10 [06:55<16:10, 138.57s/it]\n"
     ]
    },
    {
     "name": "stdout",
     "output_type": "stream",
     "text": [
      "44 167355 FAILED\n"
     ]
    },
    {
     "name": "stderr",
     "output_type": "stream",
     "text": [
      "Thing 356033 ForumList grep: 100%|██████████| 10/10 [05:53<00:00, 35.31s/it]\n",
      "Thing 291457 ForumList grep:   0%|          | 0/10 [00:00<?, ?it/s]"
     ]
    },
    {
     "name": "stdout",
     "output_type": "stream",
     "text": [
      "45 356033 SUCCESS"
     ]
    },
    {
     "name": "stderr",
     "output_type": "stream",
     "text": [
      "Thing 291457 ForumList grep: 100%|██████████| 10/10 [11:04<00:00, 66.47s/it]\n"
     ]
    },
    {
     "name": "stdout",
     "output_type": "stream",
     "text": [
      "46 291457 SUCCESS"
     ]
    },
    {
     "name": "stderr",
     "output_type": "stream",
     "text": [
      "Thing 255984 ForumList grep: 100%|██████████| 10/10 [09:16<00:00, 55.64s/it]\n",
      "Thing 244521 ForumList grep:   0%|          | 0/10 [00:00<?, ?it/s]"
     ]
    },
    {
     "name": "stdout",
     "output_type": "stream",
     "text": [
      "47 255984 SUCCESS"
     ]
    },
    {
     "name": "stderr",
     "output_type": "stream",
     "text": [
      "Thing 244521 ForumList grep: 100%|██████████| 10/10 [09:02<00:00, 54.21s/it]"
     ]
    },
    {
     "name": "stdout",
     "output_type": "stream",
     "text": [
      "48 244521 SUCCESS"
     ]
    },
    {
     "name": "stderr",
     "output_type": "stream",
     "text": [
      "\n"
     ]
    }
   ],
   "source": [
    "games = bgg_session.get_hotest(BoardGame)\n",
    "\n",
    "for i, game in enumerate(games):\n",
    "    try:\n",
    "        forumlist = bgg_session.get_forumlist(game.id)\n",
    "        game.load_forumlist(forumlist)\n",
    "\n",
    "        with open(os.path.join(SNAPSHOT_PATH, game.id), 'wb') as output_stream:\n",
    "            pickle.dump(game, output_stream)\n",
    "        print(i, game.id, 'SUCCESS', end='')\n",
    "    except BaseException as exc:\n",
    "        print(i, game.id, 'FAILED')"
   ]
  },
  {
   "cell_type": "code",
   "execution_count": 33,
   "id": "8f45e4c4",
   "metadata": {},
   "outputs": [
    {
     "name": "stdout",
     "output_type": "stream",
     "text": [
      "0 205637 FAILED\n"
     ]
    },
    {
     "name": "stderr",
     "output_type": "stream",
     "text": [
      "Thing 174430 ForumList grep:  80%|████████  | 8/10 [17:15<04:18, 129.46s/it]\n"
     ]
    },
    {
     "name": "stdout",
     "output_type": "stream",
     "text": [
      "1 174430 FAILED\n"
     ]
    },
    {
     "name": "stderr",
     "output_type": "stream",
     "text": [
      "Thing 352263 ForumList grep: 100%|██████████| 10/10 [02:20<00:00, 14.03s/it]\n"
     ]
    },
    {
     "name": "stdout",
     "output_type": "stream",
     "text": [
      "2 352263 SUCCESS"
     ]
    },
    {
     "name": "stderr",
     "output_type": "stream",
     "text": [
      "Thing 167355 ForumList grep:  30%|███       | 3/10 [06:53<16:04, 137.75s/it]"
     ]
    },
    {
     "name": "stdout",
     "output_type": "stream",
     "text": [
      "3 167355 FAILED\n"
     ]
    },
    {
     "name": "stderr",
     "output_type": "stream",
     "text": [
      "\n"
     ]
    }
   ],
   "source": [
    "for i, game in enumerate([games[24], games[28], games[36], games[44]]):\n",
    "    try:\n",
    "        forumlist = bgg_session.get_forumlist(game.id)\n",
    "        game.load_forumlist(forumlist)\n",
    "\n",
    "        with open(os.path.join(SNAPSHOT_PATH, game.id), 'wb') as output_stream:\n",
    "            pickle.dump(game, output_stream)\n",
    "        print(i, game.id, 'SUCCESS', end='')\n",
    "    except BaseException as exc:\n",
    "        print(i, game.id, 'FAILED')"
   ]
  },
  {
   "cell_type": "code",
   "execution_count": 44,
   "id": "c30db009",
   "metadata": {},
   "outputs": [
    {
     "data": {
      "text/plain": [
       "dict_values([Forum(id='3849597', title='Reviews'), Forum(id='3849598', title='Sessions'), Forum(id='3849599', title='General'), Forum(id='3849600', title='Rules'), Forum(id='3849601', title='Strategy'), Forum(id='3849602', title='Variants'), Forum(id='3849603', title='News'), Forum(id='3849604', title='Crowdfunding'), Forum(id='3849605', title='Play By Forum'), Forum(id='3849606', title='Organized Play')])"
      ]
     },
     "execution_count": 44,
     "metadata": {},
     "output_type": "execute_result"
    }
   ],
   "source": [
    "games.pop(24)\n",
    "games.pop(43)"
   ]
  },
  {
   "cell_type": "markdown",
   "id": "52dcd4d6",
   "metadata": {},
   "source": [
    "---"
   ]
  },
  {
   "cell_type": "markdown",
   "id": "a39c8ecb",
   "metadata": {},
   "source": [
    "### Users Threads"
   ]
  },
  {
   "cell_type": "code",
   "execution_count": 209,
   "id": "692eac33",
   "metadata": {},
   "outputs": [],
   "source": [
    "users_threads = defaultdict(lambda: defaultdict(list))\n",
    "bg_edges = defaultdict(lambda: defaultdict(int))"
   ]
  },
  {
   "cell_type": "code",
   "execution_count": 212,
   "id": "ea3bca84",
   "metadata": {},
   "outputs": [],
   "source": [
    "for game in games:\n",
    "    for fname, forum in game.items():\n",
    "        for thread in forum.threads:\n",
    "            users = set(post[0] for post in thread.posts if post[0])\n",
    "            for user in users:\n",
    "                users_threads[user][game.id] += [thread.id]\n",
    "                \n",
    "            for u1, u2 in itertools.product(users, repeat=2):\n",
    "                if u1 == u2:\n",
    "                    continue\n",
    "                if u1 > u2:\n",
    "                    u1, u2 = u2, u1\n",
    "                bg_edges[game.id][(u1, u2)] += 1"
   ]
  },
  {
   "cell_type": "code",
   "execution_count": 76,
   "id": "441c67f1",
   "metadata": {
    "scrolled": true
   },
   "outputs": [
    {
     "data": {
      "text/plain": [
       "defaultdict(list,\n",
       "            {'291453': ['2684340'],\n",
       "             '328479': ['2736003'],\n",
       "             '284189': ['2850465', '2850465'],\n",
       "             '291457': ['2460221']})"
      ]
     },
     "execution_count": 76,
     "metadata": {},
     "output_type": "execute_result"
    }
   ],
   "source": [
    "users_threads['The_EyE']"
   ]
  },
  {
   "cell_type": "code",
   "execution_count": 216,
   "id": "3e9a16b6",
   "metadata": {},
   "outputs": [
    {
     "data": {
      "text/plain": [
       "defaultdict(int,\n",
       "            {('BoardStupid', 'mark_c'): 2,\n",
       "             ('Kahn21', 'Natronics'): 2,\n",
       "             ('Incredibul', 'Kahn21'): 2,\n",
       "             ('Kahn21', 'utahgamer'): 2,\n",
       "             ('Kahn21', 'scottieGGGG'): 2,\n",
       "             ('Kahn21', 'ReallyBigRock'): 2,\n",
       "             ('Kahn21', 'shadowhawk720'): 2,\n",
       "             ('Incredibul', 'Natronics'): 2,\n",
       "             ('Natronics', 'utahgamer'): 2,\n",
       "             ('Natronics', 'scottieGGGG'): 2,\n",
       "             ('Natronics', 'ReallyBigRock'): 2,\n",
       "             ('Natronics', 'shadowhawk720'): 2,\n",
       "             ('Incredibul', 'utahgamer'): 2,\n",
       "             ('Incredibul', 'scottieGGGG'): 4,\n",
       "             ('Incredibul', 'ReallyBigRock'): 2,\n",
       "             ('Incredibul', 'shadowhawk720'): 2,\n",
       "             ('scottieGGGG', 'utahgamer'): 2,\n",
       "             ('ReallyBigRock', 'utahgamer'): 2,\n",
       "             ('shadowhawk720', 'utahgamer'): 2,\n",
       "             ('ReallyBigRock', 'scottieGGGG'): 2,\n",
       "             ('scottieGGGG', 'shadowhawk720'): 2,\n",
       "             ('ReallyBigRock', 'shadowhawk720'): 2,\n",
       "             ('commadelimited', 'shuabi'): 2,\n",
       "             ('MLowrey', 'adamredwoods'): 2,\n",
       "             ('MLowrey', 'MitchResk'): 2,\n",
       "             ('MitchResk', 'adamredwoods'): 2,\n",
       "             ('Harald', 'gwaedin'): 4,\n",
       "             ('Harald', 'MentatYP'): 2,\n",
       "             ('Harald', 'acl5d'): 4,\n",
       "             ('Harald', 'threlicus'): 2,\n",
       "             ('Harald', 'Highland Cow'): 4,\n",
       "             ('Harald', 'tilouboy'): 2,\n",
       "             ('Harald', 'esswhy'): 2,\n",
       "             ('Harald', 'rickert'): 4,\n",
       "             ('Harald', 'scottieGGGG'): 4,\n",
       "             ('Harald', 'Rumbelow'): 2,\n",
       "             ('Harald', 'Kitsunin'): 2,\n",
       "             ('Harald', 'garry_rice'): 2,\n",
       "             ('Harald', 'Neiln99'): 2,\n",
       "             ('Harald', 'gaaloechild'): 2,\n",
       "             ('Harald', 'ixnay66'): 2,\n",
       "             ('Harald', 'joelpetersen'): 2,\n",
       "             ('MentatYP', 'gwaedin'): 2,\n",
       "             ('acl5d', 'gwaedin'): 2,\n",
       "             ('gwaedin', 'threlicus'): 2,\n",
       "             ('Highland Cow', 'gwaedin'): 2,\n",
       "             ('gwaedin', 'tilouboy'): 2,\n",
       "             ('esswhy', 'gwaedin'): 2,\n",
       "             ('gwaedin', 'rickert'): 4,\n",
       "             ('gwaedin', 'scottieGGGG'): 4,\n",
       "             ('Rumbelow', 'gwaedin'): 2,\n",
       "             ('Kitsunin', 'gwaedin'): 2,\n",
       "             ('garry_rice', 'gwaedin'): 2,\n",
       "             ('Neiln99', 'gwaedin'): 2,\n",
       "             ('gaaloechild', 'gwaedin'): 2,\n",
       "             ('gwaedin', 'ixnay66'): 2,\n",
       "             ('gwaedin', 'joelpetersen'): 2,\n",
       "             ('MentatYP', 'acl5d'): 4,\n",
       "             ('MentatYP', 'threlicus'): 2,\n",
       "             ('Highland Cow', 'MentatYP'): 2,\n",
       "             ('MentatYP', 'tilouboy'): 2,\n",
       "             ('MentatYP', 'esswhy'): 2,\n",
       "             ('MentatYP', 'rickert'): 2,\n",
       "             ('MentatYP', 'scottieGGGG'): 2,\n",
       "             ('MentatYP', 'Rumbelow'): 2,\n",
       "             ('Kitsunin', 'MentatYP'): 2,\n",
       "             ('MentatYP', 'garry_rice'): 2,\n",
       "             ('MentatYP', 'Neiln99'): 2,\n",
       "             ('MentatYP', 'gaaloechild'): 2,\n",
       "             ('MentatYP', 'ixnay66'): 2,\n",
       "             ('MentatYP', 'joelpetersen'): 2,\n",
       "             ('acl5d', 'threlicus'): 2,\n",
       "             ('Highland Cow', 'acl5d'): 2,\n",
       "             ('acl5d', 'tilouboy'): 2,\n",
       "             ('acl5d', 'esswhy'): 2,\n",
       "             ('acl5d', 'rickert'): 2,\n",
       "             ('acl5d', 'scottieGGGG'): 2,\n",
       "             ('Rumbelow', 'acl5d'): 2,\n",
       "             ('Kitsunin', 'acl5d'): 2,\n",
       "             ('acl5d', 'garry_rice'): 2,\n",
       "             ('Neiln99', 'acl5d'): 4,\n",
       "             ('acl5d', 'gaaloechild'): 4,\n",
       "             ('acl5d', 'ixnay66'): 2,\n",
       "             ('acl5d', 'joelpetersen'): 2,\n",
       "             ('Highland Cow', 'threlicus'): 2,\n",
       "             ('threlicus', 'tilouboy'): 2,\n",
       "             ('esswhy', 'threlicus'): 2,\n",
       "             ('rickert', 'threlicus'): 2,\n",
       "             ('scottieGGGG', 'threlicus'): 2,\n",
       "             ('Rumbelow', 'threlicus'): 2,\n",
       "             ('Kitsunin', 'threlicus'): 2,\n",
       "             ('garry_rice', 'threlicus'): 2,\n",
       "             ('Neiln99', 'threlicus'): 2,\n",
       "             ('gaaloechild', 'threlicus'): 2,\n",
       "             ('ixnay66', 'threlicus'): 2,\n",
       "             ('joelpetersen', 'threlicus'): 2,\n",
       "             ('Highland Cow', 'tilouboy'): 2,\n",
       "             ('Highland Cow', 'esswhy'): 2,\n",
       "             ('Highland Cow', 'rickert'): 2,\n",
       "             ('Highland Cow', 'scottieGGGG'): 2,\n",
       "             ('Highland Cow', 'Rumbelow'): 2,\n",
       "             ('Highland Cow', 'Kitsunin'): 2,\n",
       "             ('Highland Cow', 'garry_rice'): 2,\n",
       "             ('Highland Cow', 'Neiln99'): 2,\n",
       "             ('Highland Cow', 'gaaloechild'): 2,\n",
       "             ('Highland Cow', 'ixnay66'): 2,\n",
       "             ('Highland Cow', 'joelpetersen'): 2,\n",
       "             ('esswhy', 'tilouboy'): 2,\n",
       "             ('rickert', 'tilouboy'): 2,\n",
       "             ('scottieGGGG', 'tilouboy'): 2,\n",
       "             ('Rumbelow', 'tilouboy'): 2,\n",
       "             ('Kitsunin', 'tilouboy'): 2,\n",
       "             ('garry_rice', 'tilouboy'): 2,\n",
       "             ('Neiln99', 'tilouboy'): 2,\n",
       "             ('gaaloechild', 'tilouboy'): 2,\n",
       "             ('ixnay66', 'tilouboy'): 2,\n",
       "             ('joelpetersen', 'tilouboy'): 2,\n",
       "             ('esswhy', 'rickert'): 4,\n",
       "             ('esswhy', 'scottieGGGG'): 2,\n",
       "             ('Rumbelow', 'esswhy'): 2,\n",
       "             ('Kitsunin', 'esswhy'): 2,\n",
       "             ('esswhy', 'garry_rice'): 2,\n",
       "             ('Neiln99', 'esswhy'): 4,\n",
       "             ('esswhy', 'gaaloechild'): 2,\n",
       "             ('esswhy', 'ixnay66'): 4,\n",
       "             ('esswhy', 'joelpetersen'): 2,\n",
       "             ('rickert', 'scottieGGGG'): 6,\n",
       "             ('Rumbelow', 'rickert'): 2,\n",
       "             ('Kitsunin', 'rickert'): 2,\n",
       "             ('garry_rice', 'rickert'): 2,\n",
       "             ('Neiln99', 'rickert'): 2,\n",
       "             ('gaaloechild', 'rickert'): 2,\n",
       "             ('ixnay66', 'rickert'): 2,\n",
       "             ('joelpetersen', 'rickert'): 2,\n",
       "             ('Rumbelow', 'scottieGGGG'): 2,\n",
       "             ('Kitsunin', 'scottieGGGG'): 2,\n",
       "             ('garry_rice', 'scottieGGGG'): 2,\n",
       "             ('Neiln99', 'scottieGGGG'): 2,\n",
       "             ('gaaloechild', 'scottieGGGG'): 2,\n",
       "             ('ixnay66', 'scottieGGGG'): 2,\n",
       "             ('joelpetersen', 'scottieGGGG'): 2,\n",
       "             ('Kitsunin', 'Rumbelow'): 2,\n",
       "             ('Rumbelow', 'garry_rice'): 2,\n",
       "             ('Neiln99', 'Rumbelow'): 2,\n",
       "             ('Rumbelow', 'gaaloechild'): 2,\n",
       "             ('Rumbelow', 'ixnay66'): 2,\n",
       "             ('Rumbelow', 'joelpetersen'): 2,\n",
       "             ('Kitsunin', 'garry_rice'): 2,\n",
       "             ('Kitsunin', 'Neiln99'): 2,\n",
       "             ('Kitsunin', 'gaaloechild'): 2,\n",
       "             ('Kitsunin', 'ixnay66'): 2,\n",
       "             ('Kitsunin', 'joelpetersen'): 2,\n",
       "             ('Neiln99', 'garry_rice'): 2,\n",
       "             ('gaaloechild', 'garry_rice'): 2,\n",
       "             ('garry_rice', 'ixnay66'): 2,\n",
       "             ('garry_rice', 'joelpetersen'): 2,\n",
       "             ('Neiln99', 'gaaloechild'): 2,\n",
       "             ('Neiln99', 'ixnay66'): 4,\n",
       "             ('Neiln99', 'joelpetersen'): 2,\n",
       "             ('gaaloechild', 'ixnay66'): 2,\n",
       "             ('gaaloechild', 'joelpetersen'): 2,\n",
       "             ('ixnay66', 'joelpetersen'): 2,\n",
       "             ('Spellenplank', 'nushae'): 2,\n",
       "             ('nushae', 'xr4y'): 2,\n",
       "             ('EricHogue', 'nushae'): 2,\n",
       "             ('Phaseshifter', 'nushae'): 2,\n",
       "             ('nushae', 'rmsgrey'): 2,\n",
       "             ('Spellenplank', 'xr4y'): 2,\n",
       "             ('EricHogue', 'Spellenplank'): 2,\n",
       "             ('Phaseshifter', 'Spellenplank'): 2,\n",
       "             ('Spellenplank', 'rmsgrey'): 2,\n",
       "             ('EricHogue', 'xr4y'): 2,\n",
       "             ('Phaseshifter', 'xr4y'): 2,\n",
       "             ('rmsgrey', 'xr4y'): 4,\n",
       "             ('EricHogue', 'Phaseshifter'): 2,\n",
       "             ('EricHogue', 'rmsgrey'): 10,\n",
       "             ('Phaseshifter', 'rmsgrey'): 6,\n",
       "             ('CDurose', 'pultrak'): 2,\n",
       "             ('pultrak', 'rmsgrey'): 4,\n",
       "             ('CDurose', 'rmsgrey'): 2,\n",
       "             ('Doooot', 'pultrak'): 2,\n",
       "             ('Doooot', 'rmsgrey'): 2,\n",
       "             ('Neiln99', 'crazyd191'): 2,\n",
       "             ('Neiln99', 'Onxx'): 2,\n",
       "             ('Neiln99', 'rmsgrey'): 4,\n",
       "             ('Neiln99', 'Seimaj'): 2,\n",
       "             ('Neiln99', 'gustave154'): 2,\n",
       "             ('Neiln99', 'delerme'): 2,\n",
       "             ('Koocy', 'Neiln99'): 2,\n",
       "             ('Onxx', 'crazyd191'): 2,\n",
       "             ('crazyd191', 'rmsgrey'): 2,\n",
       "             ('Seimaj', 'crazyd191'): 2,\n",
       "             ('crazyd191', 'gustave154'): 2,\n",
       "             ('crazyd191', 'delerme'): 2,\n",
       "             ('Koocy', 'crazyd191'): 2,\n",
       "             ('Onxx', 'rmsgrey'): 2,\n",
       "             ('Onxx', 'Seimaj'): 2,\n",
       "             ('Onxx', 'gustave154'): 2,\n",
       "             ('Onxx', 'delerme'): 2,\n",
       "             ('Koocy', 'Onxx'): 2,\n",
       "             ('Seimaj', 'rmsgrey'): 2,\n",
       "             ('gustave154', 'rmsgrey'): 2,\n",
       "             ('delerme', 'rmsgrey'): 2,\n",
       "             ('Koocy', 'rmsgrey'): 6,\n",
       "             ('Seimaj', 'gustave154'): 2,\n",
       "             ('Seimaj', 'delerme'): 2,\n",
       "             ('Koocy', 'Seimaj'): 2,\n",
       "             ('delerme', 'gustave154'): 2,\n",
       "             ('Koocy', 'gustave154'): 2,\n",
       "             ('Koocy', 'delerme'): 2,\n",
       "             ('MattNManda', 'bruticus'): 2,\n",
       "             ('Wildhorn', 'curtc'): 6,\n",
       "             ('curtc', 'masque'): 2,\n",
       "             ('acl5d', 'curtc'): 6,\n",
       "             ('Neiln99', 'curtc'): 4,\n",
       "             ('curtc', 'disposable.superhero'): 2,\n",
       "             ('curtc', 'elucidarian'): 2,\n",
       "             ('curtc', 'rmsgrey'): 4,\n",
       "             ('curtc', 'musiclover777'): 2,\n",
       "             ('SaintMichael741', 'curtc'): 2,\n",
       "             ('curtc', 'sgraber'): 2,\n",
       "             ('curtc', 'hogscape'): 2,\n",
       "             ('Wildhorn', 'masque'): 2,\n",
       "             ('Wildhorn', 'acl5d'): 2,\n",
       "             ('Neiln99', 'Wildhorn'): 2,\n",
       "             ('Wildhorn', 'disposable.superhero'): 2,\n",
       "             ('Wildhorn', 'elucidarian'): 2,\n",
       "             ('Wildhorn', 'rmsgrey'): 2,\n",
       "             ('Wildhorn', 'musiclover777'): 2,\n",
       "             ('SaintMichael741', 'Wildhorn'): 2,\n",
       "             ('Wildhorn', 'sgraber'): 2,\n",
       "             ('Wildhorn', 'hogscape'): 2,\n",
       "             ('acl5d', 'masque'): 2,\n",
       "             ('Neiln99', 'masque'): 2,\n",
       "             ('disposable.superhero', 'masque'): 2,\n",
       "             ('elucidarian', 'masque'): 2,\n",
       "             ('masque', 'rmsgrey'): 2,\n",
       "             ('masque', 'musiclover777'): 2,\n",
       "             ('SaintMichael741', 'masque'): 2,\n",
       "             ('masque', 'sgraber'): 2,\n",
       "             ('hogscape', 'masque'): 2,\n",
       "             ('acl5d', 'disposable.superhero'): 2,\n",
       "             ('acl5d', 'elucidarian'): 2,\n",
       "             ('acl5d', 'rmsgrey'): 2,\n",
       "             ('acl5d', 'musiclover777'): 2,\n",
       "             ('SaintMichael741', 'acl5d'): 2,\n",
       "             ('acl5d', 'sgraber'): 2,\n",
       "             ('acl5d', 'hogscape'): 2,\n",
       "             ('Neiln99', 'disposable.superhero'): 2,\n",
       "             ('Neiln99', 'elucidarian'): 2,\n",
       "             ('Neiln99', 'musiclover777'): 2,\n",
       "             ('Neiln99', 'SaintMichael741'): 2,\n",
       "             ('Neiln99', 'sgraber'): 2,\n",
       "             ('Neiln99', 'hogscape'): 2,\n",
       "             ('disposable.superhero', 'elucidarian'): 2,\n",
       "             ('disposable.superhero', 'rmsgrey'): 2,\n",
       "             ('disposable.superhero', 'musiclover777'): 2,\n",
       "             ('SaintMichael741', 'disposable.superhero'): 2,\n",
       "             ('disposable.superhero', 'sgraber'): 2,\n",
       "             ('disposable.superhero', 'hogscape'): 2,\n",
       "             ('elucidarian', 'rmsgrey'): 2,\n",
       "             ('elucidarian', 'musiclover777'): 2,\n",
       "             ('SaintMichael741', 'elucidarian'): 2,\n",
       "             ('elucidarian', 'sgraber'): 2,\n",
       "             ('elucidarian', 'hogscape'): 2,\n",
       "             ('musiclover777', 'rmsgrey'): 4,\n",
       "             ('SaintMichael741', 'rmsgrey'): 2,\n",
       "             ('rmsgrey', 'sgraber'): 2,\n",
       "             ('hogscape', 'rmsgrey'): 2,\n",
       "             ('SaintMichael741', 'musiclover777'): 2,\n",
       "             ('musiclover777', 'sgraber'): 2,\n",
       "             ('hogscape', 'musiclover777'): 2,\n",
       "             ('SaintMichael741', 'sgraber'): 2,\n",
       "             ('SaintMichael741', 'hogscape'): 2,\n",
       "             ('hogscape', 'sgraber'): 2,\n",
       "             ('Lindellproduction', 'Neiln99'): 2,\n",
       "             ('Ligght', 'Neiln99'): 4,\n",
       "             ('Neiln99', 'TabletopSauce'): 2,\n",
       "             ('Ligght', 'Lindellproduction'): 2,\n",
       "             ('Lindellproduction', 'TabletopSauce'): 2,\n",
       "             ('Ligght', 'TabletopSauce'): 2,\n",
       "             ('curtc', 'swirlsaepi'): 2,\n",
       "             ('canucklehead', 'curtc'): 2,\n",
       "             ('curtc', 'khaldun106'): 2,\n",
       "             ('curtc', 'tallboy'): 2,\n",
       "             ('curtc', 'scottieGGGG'): 4,\n",
       "             ('Phaseshifter', 'curtc'): 4,\n",
       "             ('bryanruhe', 'curtc'): 2,\n",
       "             ('Zoleeka', 'curtc'): 2,\n",
       "             ('DrumPhil', 'curtc'): 2,\n",
       "             ('curtc', 'sloades'): 2,\n",
       "             ('canucklehead', 'swirlsaepi'): 2,\n",
       "             ('khaldun106', 'swirlsaepi'): 2,\n",
       "             ('swirlsaepi', 'tallboy'): 2,\n",
       "             ('scottieGGGG', 'swirlsaepi'): 2,\n",
       "             ('Phaseshifter', 'swirlsaepi'): 2,\n",
       "             ('bryanruhe', 'swirlsaepi'): 2,\n",
       "             ('Zoleeka', 'swirlsaepi'): 2,\n",
       "             ('DrumPhil', 'swirlsaepi'): 2,\n",
       "             ('sloades', 'swirlsaepi'): 2,\n",
       "             ('canucklehead', 'khaldun106'): 2,\n",
       "             ('canucklehead', 'tallboy'): 2,\n",
       "             ('canucklehead', 'scottieGGGG'): 2,\n",
       "             ('Phaseshifter', 'canucklehead'): 2,\n",
       "             ('bryanruhe', 'canucklehead'): 2,\n",
       "             ('Zoleeka', 'canucklehead'): 2,\n",
       "             ('DrumPhil', 'canucklehead'): 2,\n",
       "             ('canucklehead', 'sloades'): 2,\n",
       "             ('khaldun106', 'tallboy'): 2,\n",
       "             ('khaldun106', 'scottieGGGG'): 2,\n",
       "             ('Phaseshifter', 'khaldun106'): 2,\n",
       "             ('bryanruhe', 'khaldun106'): 2,\n",
       "             ('Zoleeka', 'khaldun106'): 2,\n",
       "             ('DrumPhil', 'khaldun106'): 2,\n",
       "             ('khaldun106', 'sloades'): 2,\n",
       "             ('scottieGGGG', 'tallboy'): 2,\n",
       "             ('Phaseshifter', 'tallboy'): 2,\n",
       "             ('bryanruhe', 'tallboy'): 2,\n",
       "             ('Zoleeka', 'tallboy'): 2,\n",
       "             ('DrumPhil', 'tallboy'): 2,\n",
       "             ('sloades', 'tallboy'): 2,\n",
       "             ('Phaseshifter', 'scottieGGGG'): 4,\n",
       "             ('bryanruhe', 'scottieGGGG'): 2,\n",
       "             ('Zoleeka', 'scottieGGGG'): 2,\n",
       "             ('DrumPhil', 'scottieGGGG'): 2,\n",
       "             ('scottieGGGG', 'sloades'): 2,\n",
       "             ('Phaseshifter', 'bryanruhe'): 2,\n",
       "             ('Phaseshifter', 'Zoleeka'): 2,\n",
       "             ('DrumPhil', 'Phaseshifter'): 2,\n",
       "             ('Phaseshifter', 'sloades'): 4,\n",
       "             ('Zoleeka', 'bryanruhe'): 2,\n",
       "             ('DrumPhil', 'bryanruhe'): 2,\n",
       "             ('bryanruhe', 'sloades'): 2,\n",
       "             ('DrumPhil', 'Zoleeka'): 2,\n",
       "             ('Zoleeka', 'sloades'): 2,\n",
       "             ('DrumPhil', 'sloades'): 2,\n",
       "             ('FuzzyLlamaReviews', 'Koocy'): 2,\n",
       "             ('FuzzyLlamaReviews', 'tilouboy'): 2,\n",
       "             ('Koocy', 'tilouboy'): 2,\n",
       "             ('TheBoardGameFamily', 'pinoeppel'): 2,\n",
       "             ('Amnese', 'sa266'): 2,\n",
       "             ('Perchy', 'The Innocent'): 2,\n",
       "             ('Bolger', 'Perchy'): 2,\n",
       "             ('Bolger', 'The Innocent'): 2,\n",
       "             ('NorthStarGamesBruce', 'dukane'): 2,\n",
       "             ('dukane', 'tilouboy'): 2,\n",
       "             ('dukane', 'mwdalrymple'): 2,\n",
       "             ('Murr', 'dukane'): 2,\n",
       "             ('dukane', 'jleazott'): 2,\n",
       "             ('Goatcabin', 'dukane'): 2,\n",
       "             ('Mashpotassium', 'dukane'): 2,\n",
       "             ('dukane', 'galfridus'): 2,\n",
       "             ('NorthStarGamesBruce', 'tilouboy'): 2,\n",
       "             ('NorthStarGamesBruce', 'mwdalrymple'): 2,\n",
       "             ('Murr', 'NorthStarGamesBruce'): 2,\n",
       "             ('NorthStarGamesBruce', 'jleazott'): 2,\n",
       "             ('Goatcabin', 'NorthStarGamesBruce'): 6,\n",
       "             ('Mashpotassium', 'NorthStarGamesBruce'): 2,\n",
       "             ('NorthStarGamesBruce', 'galfridus'): 8,\n",
       "             ('mwdalrymple', 'tilouboy'): 2,\n",
       "             ('Murr', 'tilouboy'): 2,\n",
       "             ('jleazott', 'tilouboy'): 2,\n",
       "             ('Goatcabin', 'tilouboy'): 2,\n",
       "             ('Mashpotassium', 'tilouboy'): 2,\n",
       "             ('galfridus', 'tilouboy'): 2,\n",
       "             ('Murr', 'mwdalrymple'): 2,\n",
       "             ('jleazott', 'mwdalrymple'): 2,\n",
       "             ('Goatcabin', 'mwdalrymple'): 2,\n",
       "             ('Mashpotassium', 'mwdalrymple'): 2,\n",
       "             ('galfridus', 'mwdalrymple'): 2,\n",
       "             ('Murr', 'jleazott'): 2,\n",
       "             ('Goatcabin', 'Murr'): 2,\n",
       "             ('Mashpotassium', 'Murr'): 2,\n",
       "             ('Murr', 'galfridus'): 2,\n",
       "             ('Goatcabin', 'jleazott'): 2,\n",
       "             ('Mashpotassium', 'jleazott'): 2,\n",
       "             ('galfridus', 'jleazott'): 2,\n",
       "             ('Goatcabin', 'Mashpotassium'): 2,\n",
       "             ('Goatcabin', 'galfridus'): 6,\n",
       "             ('Mashpotassium', 'galfridus'): 2,\n",
       "             ('Chris Baylis', 'annabelseaton'): 2,\n",
       "             ('DepressedMonk3y', 'doclj86'): 2,\n",
       "             ('doclj86', 'meckii'): 2,\n",
       "             ('NorthStarGamesBruce', 'doclj86'): 2,\n",
       "             ('DepressedMonk3y', 'meckii'): 2,\n",
       "             ('DepressedMonk3y', 'NorthStarGamesBruce'): 2,\n",
       "             ('NorthStarGamesBruce', 'meckii'): 2,\n",
       "             ('Digzter', 'MatteViscio'): 2,\n",
       "             ('Llexiebhald', 'MatteViscio'): 2,\n",
       "             ('MatteViscio', 'Slackerking'): 2,\n",
       "             ('MatteViscio', 'Mdurban'): 2,\n",
       "             ('Digzter', 'Llexiebhald'): 2,\n",
       "             ('Digzter', 'Slackerking'): 2,\n",
       "             ('Digzter', 'Mdurban'): 2,\n",
       "             ('Llexiebhald', 'Slackerking'): 2,\n",
       "             ('Llexiebhald', 'Mdurban'): 2,\n",
       "             ('Mdurban', 'Slackerking'): 2,\n",
       "             ('Hoogard', '__yo'): 2,\n",
       "             ('Gamblin Mat Cauthon', '__yo'): 2,\n",
       "             ('Koocy', '__yo'): 2,\n",
       "             ('Gamblin Mat Cauthon', 'Hoogard'): 2,\n",
       "             ('Hoogard', 'Koocy'): 2,\n",
       "             ('Gamblin Mat Cauthon', 'Koocy'): 2,\n",
       "             ('Norbert Chan', 'gmale9000'): 2,\n",
       "             ('Norbert Chan', 'msaari'): 2,\n",
       "             ('David Goldfarb', 'Norbert Chan'): 4,\n",
       "             ('GomezTheChimp', 'Norbert Chan'): 2,\n",
       "             ('Norbert Chan', 'orlandeau'): 2,\n",
       "             ('IngwazK', 'Norbert Chan'): 2,\n",
       "             ('Norbert Chan', 'flaquemz'): 2,\n",
       "             ('Chandlerwp', 'Norbert Chan'): 2,\n",
       "             ('Norbert Chan', 'caltexn'): 2,\n",
       "             ('gmale9000', 'msaari'): 2,\n",
       "             ('David Goldfarb', 'gmale9000'): 2,\n",
       "             ('GomezTheChimp', 'gmale9000'): 2,\n",
       "             ('gmale9000', 'orlandeau'): 2,\n",
       "             ('IngwazK', 'gmale9000'): 2,\n",
       "             ('flaquemz', 'gmale9000'): 2,\n",
       "             ('Chandlerwp', 'gmale9000'): 2,\n",
       "             ('caltexn', 'gmale9000'): 2,\n",
       "             ('David Goldfarb', 'msaari'): 2,\n",
       "             ('GomezTheChimp', 'msaari'): 2,\n",
       "             ('msaari', 'orlandeau'): 2,\n",
       "             ('IngwazK', 'msaari'): 2,\n",
       "             ('flaquemz', 'msaari'): 2,\n",
       "             ('Chandlerwp', 'msaari'): 2,\n",
       "             ('caltexn', 'msaari'): 2,\n",
       "             ('David Goldfarb', 'GomezTheChimp'): 2,\n",
       "             ('David Goldfarb', 'orlandeau'): 2,\n",
       "             ('David Goldfarb', 'IngwazK'): 2,\n",
       "             ('David Goldfarb', 'flaquemz'): 2,\n",
       "             ('Chandlerwp', 'David Goldfarb'): 2,\n",
       "             ('David Goldfarb', 'caltexn'): 2,\n",
       "             ('GomezTheChimp', 'orlandeau'): 2,\n",
       "             ('GomezTheChimp', 'IngwazK'): 2,\n",
       "             ('GomezTheChimp', 'flaquemz'): 2,\n",
       "             ('Chandlerwp', 'GomezTheChimp'): 2,\n",
       "             ('GomezTheChimp', 'caltexn'): 2,\n",
       "             ('IngwazK', 'orlandeau'): 2,\n",
       "             ('flaquemz', 'orlandeau'): 2,\n",
       "             ('Chandlerwp', 'orlandeau'): 2,\n",
       "             ('caltexn', 'orlandeau'): 2,\n",
       "             ('IngwazK', 'flaquemz'): 2,\n",
       "             ('Chandlerwp', 'IngwazK'): 2,\n",
       "             ('IngwazK', 'caltexn'): 2,\n",
       "             ('Chandlerwp', 'flaquemz'): 2,\n",
       "             ('caltexn', 'flaquemz'): 2,\n",
       "             ('Chandlerwp', 'caltexn'): 2,\n",
       "             ('nightwishpower', 'ogValdus'): 2,\n",
       "             ('SaltyHorse', 'nightwishpower'): 2,\n",
       "             ('SaltyHorse', 'ogValdus'): 2,\n",
       "             ('pinchazumos', 'supperman007'): 2,\n",
       "             ('pinchazumos', 'shuabi'): 2,\n",
       "             ('SaltyHorse', 'pinchazumos'): 2,\n",
       "             ('shuabi', 'supperman007'): 2,\n",
       "             ('SaltyHorse', 'supperman007'): 2,\n",
       "             ('SaltyHorse', 'shuabi'): 2,\n",
       "             ('ItsthePrince', 'SpoDaddy'): 2,\n",
       "             ('Druzster', 'SpoDaddy'): 2,\n",
       "             ('SpoDaddy', 'gamerjen'): 2,\n",
       "             ('SpoDaddy', 'wrojka'): 6,\n",
       "             ('SpoDaddy', 'mdrog2'): 2,\n",
       "             ('SpoDaddy', 'jrpeacock96'): 2,\n",
       "             ('SpoDaddy', 'The Wrong One'): 4,\n",
       "             ('SpoDaddy', 'ogValdus'): 2,\n",
       "             ('SpoDaddy', 'Winn81'): 6,\n",
       "             ('SpoDaddy', 'pinoeppel'): 2,\n",
       "             ('SpoDaddy', 'sgbea13'): 4,\n",
       "             ('SpoDaddy', 'Stjredux'): 2,\n",
       "             ('SpoDaddy', 'vaderizer'): 2,\n",
       "             ('SpoDaddy', 'evnzro'): 2,\n",
       "             ('Druzster', 'ItsthePrince'): 2,\n",
       "             ('ItsthePrince', 'gamerjen'): 2,\n",
       "             ('ItsthePrince', 'wrojka'): 2,\n",
       "             ('ItsthePrince', 'mdrog2'): 2,\n",
       "             ('ItsthePrince', 'jrpeacock96'): 2,\n",
       "             ('ItsthePrince', 'The Wrong One'): 2,\n",
       "             ('ItsthePrince', 'ogValdus'): 2,\n",
       "             ('ItsthePrince', 'Winn81'): 2,\n",
       "             ('ItsthePrince', 'pinoeppel'): 2,\n",
       "             ('ItsthePrince', 'sgbea13'): 2,\n",
       "             ('ItsthePrince', 'Stjredux'): 2,\n",
       "             ('ItsthePrince', 'vaderizer'): 2,\n",
       "             ('ItsthePrince', 'evnzro'): 2,\n",
       "             ('Druzster', 'gamerjen'): 2,\n",
       "             ('Druzster', 'wrojka'): 2,\n",
       "             ('Druzster', 'mdrog2'): 2,\n",
       "             ('Druzster', 'jrpeacock96'): 2,\n",
       "             ('Druzster', 'The Wrong One'): 2,\n",
       "             ('Druzster', 'ogValdus'): 2,\n",
       "             ('Druzster', 'Winn81'): 2,\n",
       "             ('Druzster', 'pinoeppel'): 2,\n",
       "             ('Druzster', 'sgbea13'): 2,\n",
       "             ('Druzster', 'Stjredux'): 2,\n",
       "             ('Druzster', 'vaderizer'): 2,\n",
       "             ('Druzster', 'evnzro'): 2,\n",
       "             ('gamerjen', 'wrojka'): 2,\n",
       "             ('gamerjen', 'mdrog2'): 2,\n",
       "             ('gamerjen', 'jrpeacock96'): 2,\n",
       "             ('The Wrong One', 'gamerjen'): 2,\n",
       "             ('gamerjen', 'ogValdus'): 2,\n",
       "             ('Winn81', 'gamerjen'): 2,\n",
       "             ('gamerjen', 'pinoeppel'): 2,\n",
       "             ('gamerjen', 'sgbea13'): 2,\n",
       "             ('Stjredux', 'gamerjen'): 2,\n",
       "             ('gamerjen', 'vaderizer'): 2,\n",
       "             ('evnzro', 'gamerjen'): 2,\n",
       "             ('mdrog2', 'wrojka'): 2,\n",
       "             ('jrpeacock96', 'wrojka'): 2,\n",
       "             ('The Wrong One', 'wrojka'): 4,\n",
       "             ('ogValdus', 'wrojka'): 2,\n",
       "             ('Winn81', 'wrojka'): 2,\n",
       "             ('pinoeppel', 'wrojka'): 2,\n",
       "             ('sgbea13', 'wrojka'): 2,\n",
       "             ('Stjredux', 'wrojka'): 2,\n",
       "             ('vaderizer', 'wrojka'): 2,\n",
       "             ('evnzro', 'wrojka'): 2,\n",
       "             ('jrpeacock96', 'mdrog2'): 2,\n",
       "             ('The Wrong One', 'mdrog2'): 2,\n",
       "             ('mdrog2', 'ogValdus'): 2,\n",
       "             ('Winn81', 'mdrog2'): 2,\n",
       "             ('mdrog2', 'pinoeppel'): 2,\n",
       "             ('mdrog2', 'sgbea13'): 2,\n",
       "             ('Stjredux', 'mdrog2'): 2,\n",
       "             ('mdrog2', 'vaderizer'): 2,\n",
       "             ('evnzro', 'mdrog2'): 2,\n",
       "             ('The Wrong One', 'jrpeacock96'): 2,\n",
       "             ('jrpeacock96', 'ogValdus'): 2,\n",
       "             ('Winn81', 'jrpeacock96'): 2,\n",
       "             ('jrpeacock96', 'pinoeppel'): 2,\n",
       "             ('jrpeacock96', 'sgbea13'): 2,\n",
       "             ('Stjredux', 'jrpeacock96'): 2,\n",
       "             ('jrpeacock96', 'vaderizer'): 2,\n",
       "             ('evnzro', 'jrpeacock96'): 2,\n",
       "             ('The Wrong One', 'ogValdus'): 2,\n",
       "             ('The Wrong One', 'Winn81'): 2,\n",
       "             ('The Wrong One', 'pinoeppel'): 2,\n",
       "             ('The Wrong One', 'sgbea13'): 2,\n",
       "             ('Stjredux', 'The Wrong One'): 2,\n",
       "             ('The Wrong One', 'vaderizer'): 2,\n",
       "             ('The Wrong One', 'evnzro'): 2,\n",
       "             ('Winn81', 'ogValdus'): 2,\n",
       "             ('ogValdus', 'pinoeppel'): 2,\n",
       "             ('ogValdus', 'sgbea13'): 2,\n",
       "             ('Stjredux', 'ogValdus'): 2,\n",
       "             ('ogValdus', 'vaderizer'): 2,\n",
       "             ('evnzro', 'ogValdus'): 2,\n",
       "             ('Winn81', 'pinoeppel'): 2,\n",
       "             ('Winn81', 'sgbea13'): 2,\n",
       "             ('Stjredux', 'Winn81'): 2,\n",
       "             ('Winn81', 'vaderizer'): 2,\n",
       "             ('Winn81', 'evnzro'): 2,\n",
       "             ('pinoeppel', 'sgbea13'): 2,\n",
       "             ('Stjredux', 'pinoeppel'): 2,\n",
       "             ('pinoeppel', 'vaderizer'): 2,\n",
       "             ('evnzro', 'pinoeppel'): 2,\n",
       "             ('Stjredux', 'sgbea13'): 2,\n",
       "             ('sgbea13', 'vaderizer'): 2,\n",
       "             ('evnzro', 'sgbea13'): 2,\n",
       "             ('Stjredux', 'vaderizer'): 2,\n",
       "             ('Stjredux', 'evnzro'): 2,\n",
       "             ('evnzro', 'vaderizer'): 2,\n",
       "             ('dwaynedauzat', 'ryno80'): 2,\n",
       "             ('Sajuro', 'ryno80'): 2,\n",
       "             ('jtstet', 'ryno80'): 2,\n",
       "             ('ogValdus', 'ryno80'): 2,\n",
       "             ('Sajuro', 'dwaynedauzat'): 2,\n",
       "             ('dwaynedauzat', 'jtstet'): 2,\n",
       "             ('dwaynedauzat', 'ogValdus'): 2,\n",
       "             ('Sajuro', 'jtstet'): 2,\n",
       "             ('Sajuro', 'ogValdus'): 2,\n",
       "             ('jtstet', 'ogValdus'): 2,\n",
       "             ('GoodOlRudiger', 'msaari'): 2,\n",
       "             ('GoodOlRudiger', 'Jonathan9461'): 2,\n",
       "             ('GoodOlRudiger', 'ogValdus'): 2,\n",
       "             ('GoodOlRudiger', 'sonnendieb'): 2,\n",
       "             ('Jonathan9461', 'msaari'): 2,\n",
       "             ('msaari', 'ogValdus'): 2,\n",
       "             ('msaari', 'sonnendieb'): 2,\n",
       "             ('Jonathan9461', 'ogValdus'): 2,\n",
       "             ('Jonathan9461', 'sonnendieb'): 2,\n",
       "             ('ogValdus', 'sonnendieb'): 2,\n",
       "             ('jrigkvn1229', 'odditie'): 2,\n",
       "             ('odditie', 'sanchezja'): 4,\n",
       "             ('Djiem', 'odditie'): 2,\n",
       "             ('ayejae', 'odditie'): 2,\n",
       "             ('jimmcmahon', 'odditie'): 2,\n",
       "             ('odditie', 'toober'): 2,\n",
       "             ('Rockette3r', 'odditie'): 2,\n",
       "             ('RobCannon', 'odditie'): 2,\n",
       "             ('esswhy', 'odditie'): 2,\n",
       "             ('Utterindifferenc', 'odditie'): 2,\n",
       "             ('Frank Hamrick', 'odditie'): 2,\n",
       "             ('odditie', 'rickert'): 2,\n",
       "             ('Void_draw', 'odditie'): 2,\n",
       "             ('Yttrenolv', 'odditie'): 2,\n",
       "             ('Bogarona', 'odditie'): 2,\n",
       "             ('jepmn', 'odditie'): 2,\n",
       "             ('Zseus', 'odditie'): 2,\n",
       "             ('BataDjole', 'odditie'): 2,\n",
       "             ('billthespill', 'odditie'): 2,\n",
       "             ('dlsmd45', 'odditie'): 2,\n",
       "             ('SpoDaddy', 'odditie'): 2,\n",
       "             ('foxtrotbear', 'odditie'): 2,\n",
       "             ('LindyBurger', 'odditie'): 2,\n",
       "             ('odditie', 'weishaupt'): 2,\n",
       "             ('cirederF', 'odditie'): 2,\n",
       "             ('drasher25', 'odditie'): 2,\n",
       "             ('js500', 'odditie'): 2,\n",
       "             ('Jareck80', 'odditie'): 2,\n",
       "             ('curtc', 'odditie'): 2,\n",
       "             ('charlest', 'odditie'): 2,\n",
       "             ('odditie', 'ronhatch'): 2,\n",
       "             ('ColtsFan76', 'odditie'): 4,\n",
       "             ('odditie', 'thejadeape'): 2,\n",
       "             ('Roybie', 'odditie'): 2,\n",
       "             ('cymric', 'odditie'): 2,\n",
       "             ('fnord23', 'odditie'): 2,\n",
       "             ('lsnate', 'odditie'): 2,\n",
       "             ('gaudium', 'odditie'): 2,\n",
       "             ('ljhms', 'odditie'): 4,\n",
       "             ('gandalforf', 'odditie'): 2,\n",
       "             ('Skylar114', 'odditie'): 2,\n",
       "             ('odditie', 'ryguyboston'): 2,\n",
       "             ('gwommy', 'odditie'): 2,\n",
       "             ('odditie', 'stormzbowler'): 2,\n",
       "             ('odditie', 'ralterma'): 2,\n",
       "             ('Jray0705', 'odditie'): 2,\n",
       "             ('Talae', 'odditie'): 2,\n",
       "             ('ipgyst', 'odditie'): 2,\n",
       "             ('Winn81', 'odditie'): 2,\n",
       "             ('Helgason', 'odditie'): 2,\n",
       "             ('eateng300', 'odditie'): 2,\n",
       "             ('dkearns', 'odditie'): 2,\n",
       "             ('Marzuki', 'odditie'): 2,\n",
       "             ('chestond', 'odditie'): 2,\n",
       "             ('dub shih', 'odditie'): 2,\n",
       "             ('FILSdesLOUPS', 'odditie'): 2,\n",
       "             ('jrigkvn1229', 'sanchezja'): 2,\n",
       "             ('Djiem', 'jrigkvn1229'): 2,\n",
       "             ('ayejae', 'jrigkvn1229'): 2,\n",
       "             ('jimmcmahon', 'jrigkvn1229'): 2,\n",
       "             ('jrigkvn1229', 'toober'): 2,\n",
       "             ('Rockette3r', 'jrigkvn1229'): 2,\n",
       "             ('RobCannon', 'jrigkvn1229'): 2,\n",
       "             ('esswhy', 'jrigkvn1229'): 2,\n",
       "             ('Utterindifferenc', 'jrigkvn1229'): 2,\n",
       "             ('Frank Hamrick', 'jrigkvn1229'): 2,\n",
       "             ('jrigkvn1229', 'rickert'): 2,\n",
       "             ('Void_draw', 'jrigkvn1229'): 2,\n",
       "             ('Yttrenolv', 'jrigkvn1229'): 2,\n",
       "             ('Bogarona', 'jrigkvn1229'): 2,\n",
       "             ('jepmn', 'jrigkvn1229'): 2,\n",
       "             ('Zseus', 'jrigkvn1229'): 2,\n",
       "             ('BataDjole', 'jrigkvn1229'): 2,\n",
       "             ('billthespill', 'jrigkvn1229'): 2,\n",
       "             ('dlsmd45', 'jrigkvn1229'): 2,\n",
       "             ('SpoDaddy', 'jrigkvn1229'): 2,\n",
       "             ('foxtrotbear', 'jrigkvn1229'): 2,\n",
       "             ('LindyBurger', 'jrigkvn1229'): 2,\n",
       "             ('jrigkvn1229', 'weishaupt'): 2,\n",
       "             ('cirederF', 'jrigkvn1229'): 2,\n",
       "             ('drasher25', 'jrigkvn1229'): 2,\n",
       "             ('jrigkvn1229', 'js500'): 2,\n",
       "             ('Jareck80', 'jrigkvn1229'): 2,\n",
       "             ('curtc', 'jrigkvn1229'): 2,\n",
       "             ('charlest', 'jrigkvn1229'): 2,\n",
       "             ('jrigkvn1229', 'ronhatch'): 2,\n",
       "             ('ColtsFan76', 'jrigkvn1229'): 2,\n",
       "             ('jrigkvn1229', 'thejadeape'): 2,\n",
       "             ('Roybie', 'jrigkvn1229'): 2,\n",
       "             ('cymric', 'jrigkvn1229'): 2,\n",
       "             ('fnord23', 'jrigkvn1229'): 2,\n",
       "             ('jrigkvn1229', 'lsnate'): 2,\n",
       "             ('gaudium', 'jrigkvn1229'): 2,\n",
       "             ('jrigkvn1229', 'ljhms'): 2,\n",
       "             ('gandalforf', 'jrigkvn1229'): 2,\n",
       "             ('Skylar114', 'jrigkvn1229'): 2,\n",
       "             ('jrigkvn1229', 'ryguyboston'): 2,\n",
       "             ('gwommy', 'jrigkvn1229'): 2,\n",
       "             ('jrigkvn1229', 'stormzbowler'): 2,\n",
       "             ('jrigkvn1229', 'ralterma'): 2,\n",
       "             ('Jray0705', 'jrigkvn1229'): 2,\n",
       "             ('Talae', 'jrigkvn1229'): 2,\n",
       "             ('ipgyst', 'jrigkvn1229'): 2,\n",
       "             ('Winn81', 'jrigkvn1229'): 2,\n",
       "             ('Helgason', 'jrigkvn1229'): 2,\n",
       "             ('eateng300', 'jrigkvn1229'): 2,\n",
       "             ('dkearns', 'jrigkvn1229'): 2,\n",
       "             ('Marzuki', 'jrigkvn1229'): 2,\n",
       "             ('chestond', 'jrigkvn1229'): 2,\n",
       "             ('dub shih', 'jrigkvn1229'): 2,\n",
       "             ('FILSdesLOUPS', 'jrigkvn1229'): 2,\n",
       "             ('Djiem', 'sanchezja'): 2,\n",
       "             ('ayejae', 'sanchezja'): 2,\n",
       "             ('jimmcmahon', 'sanchezja'): 2,\n",
       "             ('sanchezja', 'toober'): 2,\n",
       "             ('Rockette3r', 'sanchezja'): 2,\n",
       "             ('RobCannon', 'sanchezja'): 2,\n",
       "             ('esswhy', 'sanchezja'): 2,\n",
       "             ('Utterindifferenc', 'sanchezja'): 2,\n",
       "             ('Frank Hamrick', 'sanchezja'): 2,\n",
       "             ('rickert', 'sanchezja'): 2,\n",
       "             ('Void_draw', 'sanchezja'): 2,\n",
       "             ('Yttrenolv', 'sanchezja'): 2,\n",
       "             ('Bogarona', 'sanchezja'): 2,\n",
       "             ('jepmn', 'sanchezja'): 2,\n",
       "             ('Zseus', 'sanchezja'): 2,\n",
       "             ('BataDjole', 'sanchezja'): 2,\n",
       "             ('billthespill', 'sanchezja'): 2,\n",
       "             ('dlsmd45', 'sanchezja'): 2,\n",
       "             ('SpoDaddy', 'sanchezja'): 2,\n",
       "             ('foxtrotbear', 'sanchezja'): 2,\n",
       "             ('LindyBurger', 'sanchezja'): 2,\n",
       "             ('sanchezja', 'weishaupt'): 2,\n",
       "             ('cirederF', 'sanchezja'): 2,\n",
       "             ('drasher25', 'sanchezja'): 2,\n",
       "             ('js500', 'sanchezja'): 2,\n",
       "             ('Jareck80', 'sanchezja'): 2,\n",
       "             ('curtc', 'sanchezja'): 2,\n",
       "             ('charlest', 'sanchezja'): 2,\n",
       "             ('ronhatch', 'sanchezja'): 2,\n",
       "             ('ColtsFan76', 'sanchezja'): 4,\n",
       "             ('sanchezja', 'thejadeape'): 2,\n",
       "             ('Roybie', 'sanchezja'): 2,\n",
       "             ('cymric', 'sanchezja'): 2,\n",
       "             ('fnord23', 'sanchezja'): 2,\n",
       "             ('lsnate', 'sanchezja'): 2,\n",
       "             ('gaudium', 'sanchezja'): 2,\n",
       "             ('ljhms', 'sanchezja'): 4,\n",
       "             ('gandalforf', 'sanchezja'): 2,\n",
       "             ('Skylar114', 'sanchezja'): 2,\n",
       "             ('ryguyboston', 'sanchezja'): 2,\n",
       "             ('gwommy', 'sanchezja'): 2,\n",
       "             ('sanchezja', 'stormzbowler'): 2,\n",
       "             ('ralterma', 'sanchezja'): 2,\n",
       "             ('Jray0705', 'sanchezja'): 2,\n",
       "             ('Talae', 'sanchezja'): 2,\n",
       "             ('ipgyst', 'sanchezja'): 2,\n",
       "             ('Winn81', 'sanchezja'): 2,\n",
       "             ('Helgason', 'sanchezja'): 2,\n",
       "             ('eateng300', 'sanchezja'): 2,\n",
       "             ('dkearns', 'sanchezja'): 2,\n",
       "             ('Marzuki', 'sanchezja'): 2,\n",
       "             ('chestond', 'sanchezja'): 2,\n",
       "             ('dub shih', 'sanchezja'): 2,\n",
       "             ('FILSdesLOUPS', 'sanchezja'): 2,\n",
       "             ('Djiem', 'ayejae'): 2,\n",
       "             ('Djiem', 'jimmcmahon'): 2,\n",
       "             ('Djiem', 'toober'): 2,\n",
       "             ('Djiem', 'Rockette3r'): 2,\n",
       "             ('Djiem', 'RobCannon'): 2,\n",
       "             ('Djiem', 'esswhy'): 2,\n",
       "             ('Djiem', 'Utterindifferenc'): 2,\n",
       "             ('Djiem', 'Frank Hamrick'): 2,\n",
       "             ('Djiem', 'rickert'): 2,\n",
       "             ('Djiem', 'Void_draw'): 2,\n",
       "             ('Djiem', 'Yttrenolv'): 2,\n",
       "             ('Bogarona', 'Djiem'): 2,\n",
       "             ('Djiem', 'jepmn'): 2,\n",
       "             ('Djiem', 'Zseus'): 2,\n",
       "             ('BataDjole', 'Djiem'): 2,\n",
       "             ('Djiem', 'billthespill'): 2,\n",
       "             ('Djiem', 'dlsmd45'): 2,\n",
       "             ('Djiem', 'SpoDaddy'): 2,\n",
       "             ('Djiem', 'foxtrotbear'): 2,\n",
       "             ('Djiem', 'LindyBurger'): 2,\n",
       "             ('Djiem', 'weishaupt'): 2,\n",
       "             ('Djiem', 'cirederF'): 2,\n",
       "             ('Djiem', 'drasher25'): 2,\n",
       "             ('Djiem', 'js500'): 2,\n",
       "             ('Djiem', 'Jareck80'): 2,\n",
       "             ('Djiem', 'curtc'): 2,\n",
       "             ('Djiem', 'charlest'): 2,\n",
       "             ('Djiem', 'ronhatch'): 2,\n",
       "             ('ColtsFan76', 'Djiem'): 2,\n",
       "             ('Djiem', 'thejadeape'): 2,\n",
       "             ('Djiem', 'Roybie'): 2,\n",
       "             ('Djiem', 'cymric'): 2,\n",
       "             ('Djiem', 'fnord23'): 2,\n",
       "             ('Djiem', 'lsnate'): 2,\n",
       "             ('Djiem', 'gaudium'): 2,\n",
       "             ('Djiem', 'ljhms'): 2,\n",
       "             ('Djiem', 'gandalforf'): 2,\n",
       "             ('Djiem', 'Skylar114'): 2,\n",
       "             ('Djiem', 'ryguyboston'): 2,\n",
       "             ('Djiem', 'gwommy'): 2,\n",
       "             ('Djiem', 'stormzbowler'): 2,\n",
       "             ('Djiem', 'ralterma'): 2,\n",
       "             ('Djiem', 'Jray0705'): 2,\n",
       "             ('Djiem', 'Talae'): 2,\n",
       "             ('Djiem', 'ipgyst'): 2,\n",
       "             ('Djiem', 'Winn81'): 2,\n",
       "             ('Djiem', 'Helgason'): 2,\n",
       "             ('Djiem', 'eateng300'): 2,\n",
       "             ('Djiem', 'dkearns'): 2,\n",
       "             ('Djiem', 'Marzuki'): 2,\n",
       "             ('Djiem', 'chestond'): 2,\n",
       "             ('Djiem', 'dub shih'): 2,\n",
       "             ('Djiem', 'FILSdesLOUPS'): 2,\n",
       "             ('ayejae', 'jimmcmahon'): 2,\n",
       "             ('ayejae', 'toober'): 2,\n",
       "             ('Rockette3r', 'ayejae'): 2,\n",
       "             ('RobCannon', 'ayejae'): 2,\n",
       "             ('ayejae', 'esswhy'): 2,\n",
       "             ('Utterindifferenc', 'ayejae'): 2,\n",
       "             ('Frank Hamrick', 'ayejae'): 2,\n",
       "             ('ayejae', 'rickert'): 2,\n",
       "             ('Void_draw', 'ayejae'): 2,\n",
       "             ('Yttrenolv', 'ayejae'): 2,\n",
       "             ('Bogarona', 'ayejae'): 2,\n",
       "             ('ayejae', 'jepmn'): 2,\n",
       "             ('Zseus', 'ayejae'): 2,\n",
       "             ('BataDjole', 'ayejae'): 2,\n",
       "             ('ayejae', 'billthespill'): 2,\n",
       "             ('ayejae', 'dlsmd45'): 2,\n",
       "             ('SpoDaddy', 'ayejae'): 2,\n",
       "             ('ayejae', 'foxtrotbear'): 2,\n",
       "             ('LindyBurger', 'ayejae'): 2,\n",
       "             ('ayejae', 'weishaupt'): 2,\n",
       "             ('ayejae', 'cirederF'): 2,\n",
       "             ('ayejae', 'drasher25'): 2,\n",
       "             ('ayejae', 'js500'): 2,\n",
       "             ('Jareck80', 'ayejae'): 2,\n",
       "             ('ayejae', 'curtc'): 2,\n",
       "             ('ayejae', 'charlest'): 2,\n",
       "             ('ayejae', 'ronhatch'): 2,\n",
       "             ('ColtsFan76', 'ayejae'): 2,\n",
       "             ('ayejae', 'thejadeape'): 2,\n",
       "             ('Roybie', 'ayejae'): 2,\n",
       "             ('ayejae', 'cymric'): 2,\n",
       "             ('ayejae', 'fnord23'): 2,\n",
       "             ('ayejae', 'lsnate'): 2,\n",
       "             ('ayejae', 'gaudium'): 2,\n",
       "             ('ayejae', 'ljhms'): 2,\n",
       "             ('ayejae', 'gandalforf'): 2,\n",
       "             ('Skylar114', 'ayejae'): 2,\n",
       "             ('ayejae', 'ryguyboston'): 2,\n",
       "             ('ayejae', 'gwommy'): 2,\n",
       "             ('ayejae', 'stormzbowler'): 2,\n",
       "             ('ayejae', 'ralterma'): 2,\n",
       "             ('Jray0705', 'ayejae'): 2,\n",
       "             ('Talae', 'ayejae'): 2,\n",
       "             ('ayejae', 'ipgyst'): 2,\n",
       "             ('Winn81', 'ayejae'): 2,\n",
       "             ('Helgason', 'ayejae'): 2,\n",
       "             ('ayejae', 'eateng300'): 2,\n",
       "             ('ayejae', 'dkearns'): 2,\n",
       "             ('Marzuki', 'ayejae'): 2,\n",
       "             ('ayejae', 'chestond'): 2,\n",
       "             ('ayejae', 'dub shih'): 2,\n",
       "             ('FILSdesLOUPS', 'ayejae'): 2,\n",
       "             ('jimmcmahon', 'toober'): 2,\n",
       "             ('Rockette3r', 'jimmcmahon'): 2,\n",
       "             ('RobCannon', 'jimmcmahon'): 2,\n",
       "             ('esswhy', 'jimmcmahon'): 4,\n",
       "             ('Utterindifferenc', 'jimmcmahon'): 2,\n",
       "             ('Frank Hamrick', 'jimmcmahon'): 2,\n",
       "             ('jimmcmahon', 'rickert'): 2,\n",
       "             ('Void_draw', 'jimmcmahon'): 2,\n",
       "             ('Yttrenolv', 'jimmcmahon'): 2,\n",
       "             ('Bogarona', 'jimmcmahon'): 2,\n",
       "             ('jepmn', 'jimmcmahon'): 2,\n",
       "             ('Zseus', 'jimmcmahon'): 2,\n",
       "             ('BataDjole', 'jimmcmahon'): 2,\n",
       "             ('billthespill', 'jimmcmahon'): 2,\n",
       "             ('dlsmd45', 'jimmcmahon'): 2,\n",
       "             ('SpoDaddy', 'jimmcmahon'): 4,\n",
       "             ('foxtrotbear', 'jimmcmahon'): 2,\n",
       "             ('LindyBurger', 'jimmcmahon'): 2,\n",
       "             ('jimmcmahon', 'weishaupt'): 2,\n",
       "             ('cirederF', 'jimmcmahon'): 2,\n",
       "             ('drasher25', 'jimmcmahon'): 2,\n",
       "             ('jimmcmahon', 'js500'): 2,\n",
       "             ('Jareck80', 'jimmcmahon'): 2,\n",
       "             ('curtc', 'jimmcmahon'): 4,\n",
       "             ('charlest', 'jimmcmahon'): 2,\n",
       "             ('jimmcmahon', 'ronhatch'): 2,\n",
       "             ('ColtsFan76', 'jimmcmahon'): 2,\n",
       "             ('jimmcmahon', 'thejadeape'): 2,\n",
       "             ('Roybie', 'jimmcmahon'): 2,\n",
       "             ('cymric', 'jimmcmahon'): 2,\n",
       "             ('fnord23', 'jimmcmahon'): 2,\n",
       "             ('jimmcmahon', 'lsnate'): 2,\n",
       "             ('gaudium', 'jimmcmahon'): 2,\n",
       "             ('jimmcmahon', 'ljhms'): 2,\n",
       "             ('gandalforf', 'jimmcmahon'): 2,\n",
       "             ('Skylar114', 'jimmcmahon'): 2,\n",
       "             ('jimmcmahon', 'ryguyboston'): 2,\n",
       "             ('gwommy', 'jimmcmahon'): 2,\n",
       "             ('jimmcmahon', 'stormzbowler'): 2,\n",
       "             ('jimmcmahon', 'ralterma'): 2,\n",
       "             ('Jray0705', 'jimmcmahon'): 2,\n",
       "             ('Talae', 'jimmcmahon'): 2,\n",
       "             ('ipgyst', 'jimmcmahon'): 2,\n",
       "             ('Winn81', 'jimmcmahon'): 2,\n",
       "             ('Helgason', 'jimmcmahon'): 2,\n",
       "             ('eateng300', 'jimmcmahon'): 2,\n",
       "             ('dkearns', 'jimmcmahon'): 2,\n",
       "             ('Marzuki', 'jimmcmahon'): 2,\n",
       "             ('chestond', 'jimmcmahon'): 4,\n",
       "             ('dub shih', 'jimmcmahon'): 2,\n",
       "             ('FILSdesLOUPS', 'jimmcmahon'): 2,\n",
       "             ('Rockette3r', 'toober'): 2,\n",
       "             ('RobCannon', 'toober'): 2,\n",
       "             ('esswhy', 'toober'): 2,\n",
       "             ('Utterindifferenc', 'toober'): 2,\n",
       "             ('Frank Hamrick', 'toober'): 2,\n",
       "             ('rickert', 'toober'): 2,\n",
       "             ('Void_draw', 'toober'): 2,\n",
       "             ('Yttrenolv', 'toober'): 2,\n",
       "             ('Bogarona', 'toober'): 2,\n",
       "             ('jepmn', 'toober'): 2,\n",
       "             ('Zseus', 'toober'): 2,\n",
       "             ('BataDjole', 'toober'): 2,\n",
       "             ('billthespill', 'toober'): 2,\n",
       "             ('dlsmd45', 'toober'): 2,\n",
       "             ('SpoDaddy', 'toober'): 2,\n",
       "             ('foxtrotbear', 'toober'): 2,\n",
       "             ('LindyBurger', 'toober'): 2,\n",
       "             ('toober', 'weishaupt'): 2,\n",
       "             ('cirederF', 'toober'): 2,\n",
       "             ('drasher25', 'toober'): 2,\n",
       "             ('js500', 'toober'): 2,\n",
       "             ('Jareck80', 'toober'): 2,\n",
       "             ('curtc', 'toober'): 2,\n",
       "             ('charlest', 'toober'): 2,\n",
       "             ('ronhatch', 'toober'): 2,\n",
       "             ('ColtsFan76', 'toober'): 2,\n",
       "             ('thejadeape', 'toober'): 2,\n",
       "             ('Roybie', 'toober'): 2,\n",
       "             ('cymric', 'toober'): 2,\n",
       "             ('fnord23', 'toober'): 2,\n",
       "             ('lsnate', 'toober'): 2,\n",
       "             ('gaudium', 'toober'): 2,\n",
       "             ('ljhms', 'toober'): 2,\n",
       "             ('gandalforf', 'toober'): 2,\n",
       "             ('Skylar114', 'toober'): 2,\n",
       "             ('ryguyboston', 'toober'): 2,\n",
       "             ('gwommy', 'toober'): 2,\n",
       "             ('stormzbowler', 'toober'): 2,\n",
       "             ('ralterma', 'toober'): 2,\n",
       "             ('Jray0705', 'toober'): 2,\n",
       "             ('Talae', 'toober'): 2,\n",
       "             ('ipgyst', 'toober'): 2,\n",
       "             ('Winn81', 'toober'): 2,\n",
       "             ('Helgason', 'toober'): 2,\n",
       "             ('eateng300', 'toober'): 2,\n",
       "             ('dkearns', 'toober'): 2,\n",
       "             ('Marzuki', 'toober'): 2,\n",
       "             ('chestond', 'toober'): 2,\n",
       "             ('dub shih', 'toober'): 2,\n",
       "             ('FILSdesLOUPS', 'toober'): 2,\n",
       "             ('RobCannon', 'Rockette3r'): 2,\n",
       "             ('Rockette3r', 'esswhy'): 2,\n",
       "             ('Rockette3r', 'Utterindifferenc'): 2,\n",
       "             ('Frank Hamrick', 'Rockette3r'): 2,\n",
       "             ('Rockette3r', 'rickert'): 2,\n",
       "             ('Rockette3r', 'Void_draw'): 2,\n",
       "             ('Rockette3r', 'Yttrenolv'): 2,\n",
       "             ('Bogarona', 'Rockette3r'): 2,\n",
       "             ('Rockette3r', 'jepmn'): 2,\n",
       "             ('Rockette3r', 'Zseus'): 2,\n",
       "             ('BataDjole', 'Rockette3r'): 2,\n",
       "             ('Rockette3r', 'billthespill'): 2,\n",
       "             ('Rockette3r', 'dlsmd45'): 2,\n",
       "             ('Rockette3r', 'SpoDaddy'): 2,\n",
       "             ('Rockette3r', 'foxtrotbear'): 2,\n",
       "             ('LindyBurger', 'Rockette3r'): 2,\n",
       "             ('Rockette3r', 'weishaupt'): 2,\n",
       "             ('Rockette3r', 'cirederF'): 2,\n",
       "             ('Rockette3r', 'drasher25'): 2,\n",
       "             ('Rockette3r', 'js500'): 2,\n",
       "             ('Jareck80', 'Rockette3r'): 2,\n",
       "             ('Rockette3r', 'curtc'): 4,\n",
       "             ('Rockette3r', 'charlest'): 2,\n",
       "             ('Rockette3r', 'ronhatch'): 2,\n",
       "             ('ColtsFan76', 'Rockette3r'): 2,\n",
       "             ('Rockette3r', 'thejadeape'): 2,\n",
       "             ('Rockette3r', 'Roybie'): 2,\n",
       "             ('Rockette3r', 'cymric'): 2,\n",
       "             ('Rockette3r', 'fnord23'): 2,\n",
       "             ('Rockette3r', 'lsnate'): 2,\n",
       "             ('Rockette3r', 'gaudium'): 2,\n",
       "             ('Rockette3r', 'ljhms'): 2,\n",
       "             ('Rockette3r', 'gandalforf'): 2,\n",
       "             ('Rockette3r', 'Skylar114'): 2,\n",
       "             ('Rockette3r', 'ryguyboston'): 2,\n",
       "             ('Rockette3r', 'gwommy'): 2,\n",
       "             ('Rockette3r', 'stormzbowler'): 2,\n",
       "             ('Rockette3r', 'ralterma'): 2,\n",
       "             ('Jray0705', 'Rockette3r'): 2,\n",
       "             ('Rockette3r', 'Talae'): 2,\n",
       "             ('Rockette3r', 'ipgyst'): 2,\n",
       "             ('Rockette3r', 'Winn81'): 2,\n",
       "             ('Helgason', 'Rockette3r'): 2,\n",
       "             ('Rockette3r', 'eateng300'): 2,\n",
       "             ('Rockette3r', 'dkearns'): 2,\n",
       "             ('Marzuki', 'Rockette3r'): 2,\n",
       "             ('Rockette3r', 'chestond'): 2,\n",
       "             ...})"
      ]
     },
     "execution_count": 216,
     "metadata": {},
     "output_type": "execute_result"
    }
   ],
   "source": [
    "bg_edges['244521']"
   ]
  },
  {
   "cell_type": "markdown",
   "id": "486cc0c7",
   "metadata": {},
   "source": [
    "---"
   ]
  },
  {
   "cell_type": "code",
   "execution_count": 180,
   "id": "de65aa48",
   "metadata": {},
   "outputs": [],
   "source": [
    "bgg_session = BggSession()"
   ]
  },
  {
   "cell_type": "code",
   "execution_count": 181,
   "id": "ad67a3d7",
   "metadata": {},
   "outputs": [
    {
     "data": {
      "text/plain": [
       "{'246900': 10.0, '237182': 9.0, '162886': 9.9, '167791': 7.0}"
      ]
     },
     "execution_count": 181,
     "metadata": {},
     "output_type": "execute_result"
    }
   ],
   "source": [
    "bgg_session.get_user_rating('eldmitro', ids)"
   ]
  },
  {
   "cell_type": "markdown",
   "id": "2620c871",
   "metadata": {},
   "source": [
    "---"
   ]
  },
  {
   "cell_type": "markdown",
   "id": "86cb9b8b",
   "metadata": {},
   "source": [
    "### Users Ratings"
   ]
  },
  {
   "cell_type": "code",
   "execution_count": 183,
   "id": "53e683e3",
   "metadata": {},
   "outputs": [],
   "source": [
    "ids = [game.id for game in games]"
   ]
  },
  {
   "cell_type": "code",
   "execution_count": 185,
   "id": "64df5d5c",
   "metadata": {
    "collapsed": true
   },
   "outputs": [
    {
     "name": "stderr",
     "output_type": "stream",
     "text": [
      "User rating collection:   1%|          | 117/16752 [01:50<4:22:52,  1.05it/s]\n"
     ]
    },
    {
     "ename": "AttributeError",
     "evalue": "'NoneType' object has no attribute 'find'",
     "output_type": "error",
     "traceback": [
      "\u001b[0;31m---------------------------------------------------------------------------\u001b[0m",
      "\u001b[0;31mAttributeError\u001b[0m                            Traceback (most recent call last)",
      "\u001b[0;32m<ipython-input-185-d636581e63a9>\u001b[0m in \u001b[0;36m<module>\u001b[0;34m\u001b[0m\n\u001b[1;32m      1\u001b[0m \u001b[0musers_rating\u001b[0m \u001b[0;34m=\u001b[0m \u001b[0mdict\u001b[0m\u001b[0;34m(\u001b[0m\u001b[0;34m)\u001b[0m\u001b[0;34m\u001b[0m\u001b[0;34m\u001b[0m\u001b[0m\n\u001b[1;32m      2\u001b[0m \u001b[0;32mfor\u001b[0m \u001b[0musername\u001b[0m \u001b[0;32min\u001b[0m \u001b[0mtqdm\u001b[0m\u001b[0;34m(\u001b[0m\u001b[0musers_threads\u001b[0m\u001b[0;34m,\u001b[0m \u001b[0mdesc\u001b[0m\u001b[0;34m=\u001b[0m\u001b[0;34m'User rating collection'\u001b[0m\u001b[0;34m)\u001b[0m\u001b[0;34m:\u001b[0m\u001b[0;34m\u001b[0m\u001b[0;34m\u001b[0m\u001b[0m\n\u001b[0;32m----> 3\u001b[0;31m     \u001b[0mrates\u001b[0m \u001b[0;34m=\u001b[0m \u001b[0mbgg_session\u001b[0m\u001b[0;34m.\u001b[0m\u001b[0mget_user_rating\u001b[0m\u001b[0;34m(\u001b[0m\u001b[0musername\u001b[0m\u001b[0;34m,\u001b[0m \u001b[0mids\u001b[0m\u001b[0;34m)\u001b[0m\u001b[0;34m\u001b[0m\u001b[0;34m\u001b[0m\u001b[0m\n\u001b[0m\u001b[1;32m      4\u001b[0m     \u001b[0musers_rating\u001b[0m\u001b[0;34m[\u001b[0m\u001b[0musername\u001b[0m\u001b[0;34m]\u001b[0m \u001b[0;34m=\u001b[0m \u001b[0mrates\u001b[0m\u001b[0;34m\u001b[0m\u001b[0;34m\u001b[0m\u001b[0m\n",
      "\u001b[0;32m<ipython-input-178-64be9219ce49>\u001b[0m in \u001b[0;36mget_user_rating\u001b[0;34m(self, username, ids, timeout)\u001b[0m\n\u001b[1;32m     97\u001b[0m             \u001b[0mid_\u001b[0m \u001b[0;34m=\u001b[0m \u001b[0mitem\u001b[0m\u001b[0;34m.\u001b[0m\u001b[0mget\u001b[0m\u001b[0;34m(\u001b[0m\u001b[0;34m'objectid'\u001b[0m\u001b[0;34m)\u001b[0m\u001b[0;34m\u001b[0m\u001b[0;34m\u001b[0m\u001b[0m\n\u001b[1;32m     98\u001b[0m             \u001b[0mstats\u001b[0m \u001b[0;34m=\u001b[0m \u001b[0mitem\u001b[0m\u001b[0;34m.\u001b[0m\u001b[0mfind\u001b[0m\u001b[0;34m(\u001b[0m\u001b[0;34m'stats'\u001b[0m\u001b[0;34m)\u001b[0m\u001b[0;34m\u001b[0m\u001b[0;34m\u001b[0m\u001b[0m\n\u001b[0;32m---> 99\u001b[0;31m             \u001b[0mrating\u001b[0m \u001b[0;34m=\u001b[0m \u001b[0mstats\u001b[0m\u001b[0;34m.\u001b[0m\u001b[0mfind\u001b[0m\u001b[0;34m(\u001b[0m\u001b[0;34m'rating'\u001b[0m\u001b[0;34m)\u001b[0m\u001b[0;34m.\u001b[0m\u001b[0mget\u001b[0m\u001b[0;34m(\u001b[0m\u001b[0;34m'value'\u001b[0m\u001b[0;34m)\u001b[0m\u001b[0;34m\u001b[0m\u001b[0;34m\u001b[0m\u001b[0m\n\u001b[0m\u001b[1;32m    100\u001b[0m \u001b[0;34m\u001b[0m\u001b[0m\n\u001b[1;32m    101\u001b[0m             \u001b[0;32mif\u001b[0m \u001b[0mrating\u001b[0m \u001b[0;34m!=\u001b[0m \u001b[0;34m'N/A'\u001b[0m\u001b[0;34m:\u001b[0m\u001b[0;34m\u001b[0m\u001b[0;34m\u001b[0m\u001b[0m\n",
      "\u001b[0;31mAttributeError\u001b[0m: 'NoneType' object has no attribute 'find'"
     ]
    }
   ],
   "source": [
    "users_rating = dict()\n",
    "for username in tqdm(users_threads, desc='User rating collection'):\n",
    "    rates = bgg_session.get_user_rating(username, ids)\n",
    "    users_rating[username] = rates"
   ]
  },
  {
   "cell_type": "markdown",
   "id": "46e93011",
   "metadata": {},
   "source": [
    "---"
   ]
  }
 ],
 "metadata": {
  "kernelspec": {
   "display_name": "Python 3",
   "language": "python",
   "name": "python3"
  },
  "language_info": {
   "codemirror_mode": {
    "name": "ipython",
    "version": 3
   },
   "file_extension": ".py",
   "mimetype": "text/x-python",
   "name": "python",
   "nbconvert_exporter": "python",
   "pygments_lexer": "ipython3",
   "version": "3.8.8"
  }
 },
 "nbformat": 4,
 "nbformat_minor": 5
}
