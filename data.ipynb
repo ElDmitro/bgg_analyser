{
 "cells": [
  {
   "cell_type": "code",
   "execution_count": 13,
   "id": "6b1dfc32",
   "metadata": {},
   "outputs": [],
   "source": [
    "import time\n",
    "import os"
   ]
  },
  {
   "cell_type": "code",
   "execution_count": 2,
   "id": "4f03c2cc",
   "metadata": {},
   "outputs": [],
   "source": [
    "from dataclasses import dataclass, field\n",
    "from enum import Enum\n",
    "from requests import Session"
   ]
  },
  {
   "cell_type": "code",
   "execution_count": 16,
   "id": "3f86d32f",
   "metadata": {},
   "outputs": [],
   "source": [
    "import pickle\n",
    "from xml.etree import ElementTree as ET\n",
    "from typing import List, Tuple, Dict"
   ]
  },
  {
   "cell_type": "code",
   "execution_count": 4,
   "id": "d254100f",
   "metadata": {},
   "outputs": [],
   "source": [
    "import numpy as np\n",
    "import pandas as pd"
   ]
  },
  {
   "cell_type": "code",
   "execution_count": 5,
   "id": "ca3b237d",
   "metadata": {},
   "outputs": [],
   "source": [
    "from tqdm import tqdm"
   ]
  },
  {
   "cell_type": "markdown",
   "id": "bd98ee28",
   "metadata": {},
   "source": [
    "---"
   ]
  },
  {
   "cell_type": "code",
   "execution_count": 17,
   "id": "a8d735f9",
   "metadata": {},
   "outputs": [],
   "source": [
    "@dataclass\n",
    "class BGGElement:\n",
    "    id: str\n",
    "\n",
    "\n",
    "@dataclass\n",
    "class Thread(BGGElement):\n",
    "    subject: str\n",
    "    author: str\n",
    "        \n",
    "    posts: List[Tuple[str, str]] = field(repr=False)\n",
    "        \n",
    "@dataclass\n",
    "class Forum(BGGElement):\n",
    "    title: str\n",
    "        \n",
    "    threads: List[Thread] = field(repr=False)    "
   ]
  },
  {
   "cell_type": "markdown",
   "id": "aced1956",
   "metadata": {},
   "source": [
    "---"
   ]
  },
  {
   "cell_type": "code",
   "execution_count": 18,
   "id": "d80ce181",
   "metadata": {},
   "outputs": [],
   "source": [
    "@dataclass\n",
    "class Thing:\n",
    "    kind = 'thing'\n",
    "    \n",
    "    id: str\n",
    "     \n",
    "    \n",
    "@dataclass\n",
    "class ForumContainer:\n",
    "    _forumlist: Dict[str, Forum] = field(init=False, repr=False, default_factory=dict)\n",
    "        \n",
    "    def __getitem__(self, title):\n",
    "        return self._forumlist[title]\n",
    "    \n",
    "    def __setitem__(self, title, forum):\n",
    "        if not isinstance(forum, Forum):\n",
    "            raise RuntimeError('non-Forum passed')\n",
    "        self._forumlist[title] = forum\n",
    "        \n",
    "    def load_forumlist(self, forumlist):\n",
    "        for forum in forumlist:\n",
    "            self[forum.title] = forum\n",
    "        \n",
    "    def titles(self):\n",
    "        return self._forumlist.keys()\n",
    "    \n",
    "    def forums(self):\n",
    "        return self._forumlist.values()\n",
    "    \n",
    "    def items(self):\n",
    "        return self._forumlist.items()\n",
    "    \n",
    "    def __iter__(self):\n",
    "        return iter(self._forumlist)\n",
    "\n",
    "\n",
    "@dataclass\n",
    "class BoardGame(Thing, ForumContainer):\n",
    "    kind = 'boardgame'\n",
    "    \n",
    "    name: str\n",
    "    description: str = field(repr=False)\n",
    "    image: str = field(repr=False)\n",
    "    yearpublished: int\n",
    "        \n",
    "    minage: int = field(repr=False)\n",
    "        \n",
    "    minplaytime: int\n",
    "    maxplaytime: int\n",
    "        \n",
    "    minplayers: int\n",
    "    maxplayers: int\n",
    "    nplayers_best: str\n",
    "        \n",
    "    categories: List[str] = field(repr=False)\n",
    "        \n",
    "    def __str__(self):\n",
    "        return f'''\n",
    "        {self.image}\n",
    "        {self.name} ({self.yearpublished})\n",
    "        R: {self.minage}+\n",
    "        \n",
    "        {self.description}\n",
    "        \n",
    "        Playtime: {self.minplaytime} - {self.maxplaytime}\n",
    "        Players: {self.minplayers} - {self.maxplayers} ({self.nplayers_best})\n",
    "        \n",
    "        {self.categories}\n",
    "        '''\n",
    "    \n",
    "    @staticmethod\n",
    "    def from_xml(item_xml):\n",
    "        id_ = item_xml.get('id')\n",
    "        attrs = dict()\n",
    "\n",
    "        for attr in (\n",
    "            ('name', str), ('description', str),\n",
    "            ('yearpublished', int),\n",
    "            ('minplaytime', int), ('maxplaytime', int),\n",
    "            ('minplayers', int), ('maxplayers', int),\n",
    "            ('minage', int),\n",
    "        ):\n",
    "            attr, cast = attr\n",
    "            attrs[attr] = cast(item_xml.find(attr).get('value'))\n",
    "\n",
    "\n",
    "        for attr in (\n",
    "            ('image', str),\n",
    "            ('description', str),\n",
    "        ):\n",
    "            attr, cast = attr\n",
    "            attrs[attr] = cast(item_xml.find(attr).text)\n",
    "\n",
    "\n",
    "        nplayers_tag = find_tag_by_attr(item_xml, 'poll', 'name', 'suggested_numplayers')\n",
    "        nplayers_poll = [\n",
    "            (\n",
    "                result.get('numplayers'),\n",
    "                int(find_tag_by_attr(result, 'result', 'value', 'Best').get('numvotes'))\n",
    "            )\n",
    "            for result in nplayers_tag\n",
    "        ]\n",
    "        attrs['nplayers_best'] = sorted(nplayers_poll, key=lambda x: x[1]).pop()[0]\n",
    "\n",
    "\n",
    "        attrs['categories'] = [\n",
    "            link.get('value')\n",
    "            for link in find_tags_by_attr(item_xml, 'link', 'type', 'boardgamecategory')\n",
    "        ]\n",
    "\n",
    "        return BoardGame(id_, **attrs)\n",
    "        \n",
    "        \n",
    "@dataclass(frozen=True)\n",
    "class User:\n",
    "    login: str"
   ]
  },
  {
   "cell_type": "markdown",
   "id": "4a02a353",
   "metadata": {},
   "source": [
    "---"
   ]
  },
  {
   "cell_type": "code",
   "execution_count": 19,
   "id": "d7502fb3",
   "metadata": {},
   "outputs": [],
   "source": [
    "def find_tags_by_attr(xml_tree, tag, attr_key, attr_value):\n",
    "    return [\n",
    "        cand for cand in xml_tree.findall(tag)\n",
    "        if cand.get(attr_key) == attr_value\n",
    "    ]"
   ]
  },
  {
   "cell_type": "code",
   "execution_count": 20,
   "id": "171df133",
   "metadata": {},
   "outputs": [],
   "source": [
    "def find_tag_by_attr(xml_tree, tag, attr_key, attr_value):\n",
    "    return find_tags_by_attr(xml_tree, tag, attr_key, attr_value).pop()"
   ]
  },
  {
   "cell_type": "markdown",
   "id": "e552972d",
   "metadata": {},
   "source": [
    "---"
   ]
  },
  {
   "cell_type": "code",
   "execution_count": 21,
   "id": "a36f55be",
   "metadata": {},
   "outputs": [],
   "source": [
    "BGG_ROOT_PATH = 'https://boardgamegeek.com/xmlapi2/'\n",
    "\n",
    "FORUMLIST_SLEEP = 5\n",
    "THREAD_SLEEP = 2\n",
    "\n",
    "\n",
    "class BggSession(Session):\n",
    "    def get_things(self, thing_class, ids):\n",
    "        request_params = {\n",
    "            'id': ','.join(ids),\n",
    "            'type': thing_class.kind,\n",
    "            'pagesize': 100,\n",
    "        }\n",
    "        response = self.get(BGG_ROOT_PATH + 'thing', params=request_params)\n",
    "        if not response.ok:\n",
    "            raise RuntimeError(response.content)\n",
    "        \n",
    "        return [thing_class.from_xml(item) for item in ET.fromstring(response.content)]\n",
    "    \n",
    "    def get_hotest(self, thing_class):\n",
    "        response = self.get(BGG_ROOT_PATH + 'hot', params={'type': thing_class.kind})\n",
    "        if not response.ok:\n",
    "            raise RuntimeError(response.content)\n",
    "        \n",
    "        ids = [item.get('id') for item in ET.fromstring(response.content)]\n",
    "            \n",
    "        return self.get_things(thing_class, ids)\n",
    "    \n",
    "    def get_thread_posts(self, thread_id):\n",
    "        response = self.get(BGG_ROOT_PATH + 'thread', params={'id': thread_id})\n",
    "        if not response.ok:\n",
    "            raise RuntimeError(response.content)\n",
    "\n",
    "        tree = ET.fromstring(response.content)\n",
    "        return [\n",
    "            (post.get('username'), post.find('body').text)\n",
    "            for post in tree.find('articles')\n",
    "        ]\n",
    "    \n",
    "    def get_forum(self, forum_id):\n",
    "        response = self.get(BGG_ROOT_PATH + 'forum', params={'id': forum_id})\n",
    "        if not response.ok:\n",
    "            raise RuntimeError(response.content)\n",
    "\n",
    "        tree = ET.fromstring(response.content)\n",
    "        threads = list()\n",
    "        for thread in tree.find('threads'):\n",
    "            time.sleep(THREAD_SLEEP)\n",
    "            \n",
    "            threads.append(Thread(\n",
    "                thread.get('id'),\n",
    "                subject=thread.get('subject'), author=thread.get('author'),\n",
    "                posts=self.get_thread_posts(thread.get('id'))\n",
    "            ))\n",
    "        \n",
    "        return Forum(forum_id, tree.get('title'), threads)\n",
    "    \n",
    "    def get_forumlist(self, thing_id):\n",
    "        response = self.get(BGG_ROOT_PATH + 'forumlist', params={'type': 'thing', 'id': thing_id})\n",
    "        if not response.ok:\n",
    "            raise RuntimeError(response.content)\n",
    "            \n",
    "        tree = ET.fromstring(response.content)\n",
    "        forums = list()\n",
    "        for forum_tag in tqdm(tree, desc=f'Thing {thing_id} ForumList grep'):\n",
    "            time.sleep(FORUMLIST_SLEEP)\n",
    "            forums.append(self.get_forum(forum_tag.get('id')))\n",
    "            \n",
    "        return forums"
   ]
  },
  {
   "cell_type": "markdown",
   "id": "1972fc93",
   "metadata": {},
   "source": [
    "---"
   ]
  },
  {
   "cell_type": "code",
   "execution_count": 22,
   "id": "8e857474",
   "metadata": {},
   "outputs": [],
   "source": [
    "SNAPSHOT_PATH = 'snapshot'"
   ]
  },
  {
   "cell_type": "code",
   "execution_count": 24,
   "id": "a3486e88",
   "metadata": {},
   "outputs": [],
   "source": [
    "bgg_session = BggSession()"
   ]
  },
  {
   "cell_type": "code",
   "execution_count": 26,
   "id": "38fec7c4",
   "metadata": {},
   "outputs": [
    {
     "name": "stderr",
     "output_type": "stream",
     "text": [
      "Thing 291453 ForumList grep: 100%|██████████| 10/10 [02:08<00:00, 12.86s/it]\n"
     ]
    },
    {
     "name": "stdout",
     "output_type": "stream",
     "text": [
      "0 291453 SUCCESS"
     ]
    },
    {
     "name": "stderr",
     "output_type": "stream",
     "text": [
      "Thing 342942 ForumList grep: 100%|██████████| 10/10 [09:33<00:00, 57.40s/it]\n"
     ]
    },
    {
     "name": "stdout",
     "output_type": "stream",
     "text": [
      "1 342942 SUCCESS"
     ]
    },
    {
     "name": "stderr",
     "output_type": "stream",
     "text": [
      "Thing 363204 ForumList grep: 100%|██████████| 10/10 [00:59<00:00,  5.94s/it]\n"
     ]
    },
    {
     "name": "stdout",
     "output_type": "stream",
     "text": [
      "2 363204 SUCCESS"
     ]
    },
    {
     "name": "stderr",
     "output_type": "stream",
     "text": [
      "Thing 300905 ForumList grep: 100%|██████████| 10/10 [01:01<00:00,  6.16s/it]\n"
     ]
    },
    {
     "name": "stdout",
     "output_type": "stream",
     "text": [
      "3 300905 SUCCESS"
     ]
    },
    {
     "name": "stderr",
     "output_type": "stream",
     "text": [
      "Thing 328479 ForumList grep: 100%|██████████| 10/10 [02:55<00:00, 17.55s/it]\n"
     ]
    },
    {
     "name": "stdout",
     "output_type": "stream",
     "text": [
      "4 328479 SUCCESS"
     ]
    },
    {
     "name": "stderr",
     "output_type": "stream",
     "text": [
      "Thing 363369 ForumList grep: 100%|██████████| 10/10 [01:02<00:00,  6.20s/it]\n"
     ]
    },
    {
     "name": "stdout",
     "output_type": "stream",
     "text": [
      "5 363369 SUCCESS"
     ]
    },
    {
     "name": "stderr",
     "output_type": "stream",
     "text": [
      "Thing 246784 ForumList grep: 100%|██████████| 10/10 [05:43<00:00, 34.32s/it]\n"
     ]
    },
    {
     "name": "stdout",
     "output_type": "stream",
     "text": [
      "6 246784 SUCCESS"
     ]
    },
    {
     "name": "stderr",
     "output_type": "stream",
     "text": [
      "Thing 322656 ForumList grep: 100%|██████████| 10/10 [04:41<00:00, 28.19s/it]\n"
     ]
    },
    {
     "name": "stdout",
     "output_type": "stream",
     "text": [
      "7 322656 SUCCESS"
     ]
    },
    {
     "name": "stderr",
     "output_type": "stream",
     "text": [
      "Thing 295947 ForumList grep: 100%|██████████| 10/10 [06:57<00:00, 41.77s/it]\n",
      "Thing 357203 ForumList grep:   0%|          | 0/10 [00:00<?, ?it/s]"
     ]
    },
    {
     "name": "stdout",
     "output_type": "stream",
     "text": [
      "8 295947 SUCCESS"
     ]
    },
    {
     "name": "stderr",
     "output_type": "stream",
     "text": [
      "Thing 357203 ForumList grep: 100%|██████████| 10/10 [00:54<00:00,  5.49s/it]\n",
      "Thing 359871 ForumList grep:   0%|          | 0/10 [00:00<?, ?it/s]"
     ]
    },
    {
     "name": "stdout",
     "output_type": "stream",
     "text": [
      "9 357203 SUCCESS"
     ]
    },
    {
     "name": "stderr",
     "output_type": "stream",
     "text": [
      "Thing 359871 ForumList grep: 100%|██████████| 10/10 [02:39<00:00, 15.96s/it]\n"
     ]
    },
    {
     "name": "stdout",
     "output_type": "stream",
     "text": [
      "10 359871 SUCCESS"
     ]
    },
    {
     "name": "stderr",
     "output_type": "stream",
     "text": [
      "Thing 316554 ForumList grep: 100%|██████████| 10/10 [12:23<00:00, 74.40s/it]\n"
     ]
    },
    {
     "name": "stdout",
     "output_type": "stream",
     "text": [
      "11 316554 SUCCESS"
     ]
    },
    {
     "name": "stderr",
     "output_type": "stream",
     "text": [
      "Thing 354886 ForumList grep: 100%|██████████| 10/10 [01:08<00:00,  6.88s/it]\n"
     ]
    },
    {
     "name": "stdout",
     "output_type": "stream",
     "text": [
      "12 354886 SUCCESS"
     ]
    },
    {
     "name": "stderr",
     "output_type": "stream",
     "text": [
      "Thing 311610 ForumList grep: 100%|██████████| 10/10 [01:12<00:00,  7.24s/it]\n"
     ]
    },
    {
     "name": "stdout",
     "output_type": "stream",
     "text": [
      "13 311610 SUCCESS"
     ]
    },
    {
     "name": "stderr",
     "output_type": "stream",
     "text": [
      "Thing 285774 ForumList grep: 100%|██████████| 10/10 [15:30<00:00, 93.03s/it]\n"
     ]
    },
    {
     "name": "stdout",
     "output_type": "stream",
     "text": [
      "14 285774 SUCCESS"
     ]
    },
    {
     "name": "stderr",
     "output_type": "stream",
     "text": [
      "Thing 347013 ForumList grep: 100%|██████████| 10/10 [01:55<00:00, 11.55s/it]\n",
      "Thing 162886 ForumList grep:   0%|          | 0/10 [00:00<?, ?it/s]"
     ]
    },
    {
     "name": "stdout",
     "output_type": "stream",
     "text": [
      "15 347013 SUCCESS"
     ]
    },
    {
     "name": "stderr",
     "output_type": "stream",
     "text": [
      "Thing 162886 ForumList grep: 100%|██████████| 10/10 [19:55<00:00, 119.55s/it]\n",
      "Thing 227935 ForumList grep:   0%|          | 0/10 [00:00<?, ?it/s]"
     ]
    },
    {
     "name": "stdout",
     "output_type": "stream",
     "text": [
      "16 162886 SUCCESS"
     ]
    },
    {
     "name": "stderr",
     "output_type": "stream",
     "text": [
      "Thing 227935 ForumList grep: 100%|██████████| 10/10 [06:17<00:00, 37.70s/it]\n"
     ]
    },
    {
     "name": "stdout",
     "output_type": "stream",
     "text": [
      "17 227935 SUCCESS"
     ]
    },
    {
     "name": "stderr",
     "output_type": "stream",
     "text": [
      "Thing 12 ForumList grep: 100%|██████████| 10/10 [11:39<00:00, 69.98s/it]\n",
      "Thing 310873 ForumList grep:   0%|          | 0/10 [00:00<?, ?it/s]"
     ]
    },
    {
     "name": "stdout",
     "output_type": "stream",
     "text": [
      "18 12 SUCCESS"
     ]
    },
    {
     "name": "stderr",
     "output_type": "stream",
     "text": [
      "Thing 310873 ForumList grep: 100%|██████████| 10/10 [07:03<00:00, 42.34s/it]\n"
     ]
    },
    {
     "name": "stdout",
     "output_type": "stream",
     "text": [
      "19 310873 SUCCESS"
     ]
    },
    {
     "name": "stderr",
     "output_type": "stream",
     "text": [
      "Thing 354892 ForumList grep: 100%|██████████| 10/10 [00:55<00:00,  5.57s/it]\n"
     ]
    },
    {
     "name": "stdout",
     "output_type": "stream",
     "text": [
      "20 354892 SUCCESS"
     ]
    },
    {
     "name": "stderr",
     "output_type": "stream",
     "text": [
      "Thing 167791 ForumList grep: 100%|██████████| 10/10 [26:25<00:00, 158.50s/it]\n"
     ]
    },
    {
     "name": "stdout",
     "output_type": "stream",
     "text": [
      "21 167791 SUCCESS"
     ]
    },
    {
     "name": "stderr",
     "output_type": "stream",
     "text": [
      "Thing 237182 ForumList grep: 100%|██████████| 10/10 [26:35<00:00, 159.57s/it]\n"
     ]
    },
    {
     "name": "stdout",
     "output_type": "stream",
     "text": [
      "22 237182 SUCCESS"
     ]
    },
    {
     "name": "stderr",
     "output_type": "stream",
     "text": [
      "Thing 288080 ForumList grep: 100%|██████████| 10/10 [02:47<00:00, 16.79s/it]\n"
     ]
    },
    {
     "name": "stdout",
     "output_type": "stream",
     "text": [
      "23 288080 SUCCESS"
     ]
    },
    {
     "name": "stderr",
     "output_type": "stream",
     "text": [
      "Thing 205637 ForumList grep:  80%|████████  | 8/10 [17:29<04:22, 131.24s/it]\n"
     ]
    },
    {
     "name": "stdout",
     "output_type": "stream",
     "text": [
      "24 205637 FAILED\n"
     ]
    },
    {
     "name": "stderr",
     "output_type": "stream",
     "text": [
      "Thing 84876 ForumList grep: 100%|██████████| 10/10 [11:52<00:00, 71.30s/it]\n"
     ]
    },
    {
     "name": "stdout",
     "output_type": "stream",
     "text": [
      "25 84876 SUCCESS"
     ]
    },
    {
     "name": "stderr",
     "output_type": "stream",
     "text": [
      "Thing 312484 ForumList grep: 100%|██████████| 10/10 [10:43<00:00, 64.32s/it]\n"
     ]
    },
    {
     "name": "stdout",
     "output_type": "stream",
     "text": [
      "26 312484 SUCCESS"
     ]
    },
    {
     "name": "stderr",
     "output_type": "stream",
     "text": [
      "Thing 311193 ForumList grep: 100%|██████████| 10/10 [06:38<00:00, 39.80s/it]\n"
     ]
    },
    {
     "name": "stdout",
     "output_type": "stream",
     "text": [
      "27 311193 SUCCESS"
     ]
    },
    {
     "name": "stderr",
     "output_type": "stream",
     "text": [
      "Thing 174430 ForumList grep:  80%|████████  | 8/10 [18:12<04:33, 136.53s/it]\n",
      "Thing 224517 ForumList grep:   0%|          | 0/10 [00:00<?, ?it/s]"
     ]
    },
    {
     "name": "stdout",
     "output_type": "stream",
     "text": [
      "28 174430 FAILED\n"
     ]
    },
    {
     "name": "stderr",
     "output_type": "stream",
     "text": [
      "Thing 224517 ForumList grep: 100%|██████████| 10/10 [11:13<00:00, 67.38s/it]\n",
      "Thing 299684 ForumList grep:   0%|          | 0/10 [00:00<?, ?it/s]"
     ]
    },
    {
     "name": "stdout",
     "output_type": "stream",
     "text": [
      "29 224517 SUCCESS"
     ]
    },
    {
     "name": "stderr",
     "output_type": "stream",
     "text": [
      "Thing 299684 ForumList grep: 100%|██████████| 10/10 [04:54<00:00, 29.43s/it]\n"
     ]
    },
    {
     "name": "stdout",
     "output_type": "stream",
     "text": [
      "30 299684 SUCCESS"
     ]
    },
    {
     "name": "stderr",
     "output_type": "stream",
     "text": [
      "Thing 266192 ForumList grep: 100%|██████████| 10/10 [12:26<00:00, 74.65s/it]\n"
     ]
    },
    {
     "name": "stdout",
     "output_type": "stream",
     "text": [
      "31 266192 SUCCESS"
     ]
    },
    {
     "name": "stderr",
     "output_type": "stream",
     "text": [
      "Thing 284189 ForumList grep: 100%|██████████| 10/10 [05:28<00:00, 32.81s/it]\n"
     ]
    },
    {
     "name": "stdout",
     "output_type": "stream",
     "text": [
      "32 284189 SUCCESS"
     ]
    },
    {
     "name": "stderr",
     "output_type": "stream",
     "text": [
      "Thing 341919 ForumList grep: 100%|██████████| 10/10 [00:59<00:00,  5.97s/it]\n",
      "Thing 320718 ForumList grep:   0%|          | 0/10 [00:00<?, ?it/s]"
     ]
    },
    {
     "name": "stdout",
     "output_type": "stream",
     "text": [
      "33 341919 SUCCESS"
     ]
    },
    {
     "name": "stderr",
     "output_type": "stream",
     "text": [
      "Thing 320718 ForumList grep: 100%|██████████| 10/10 [03:44<00:00, 22.42s/it]\n",
      "Thing 303669 ForumList grep:   0%|          | 0/10 [00:00<?, ?it/s]"
     ]
    },
    {
     "name": "stdout",
     "output_type": "stream",
     "text": [
      "34 320718 SUCCESS"
     ]
    },
    {
     "name": "stderr",
     "output_type": "stream",
     "text": [
      "Thing 303669 ForumList grep: 100%|██████████| 10/10 [00:57<00:00,  5.74s/it]\n",
      "Thing 352263 ForumList grep:   0%|          | 0/10 [00:00<?, ?it/s]"
     ]
    },
    {
     "name": "stdout",
     "output_type": "stream",
     "text": [
      "35 303669 SUCCESS"
     ]
    },
    {
     "name": "stderr",
     "output_type": "stream",
     "text": [
      "Thing 352263 ForumList grep:  30%|███       | 3/10 [12:29<29:09, 249.86s/it]\n"
     ]
    },
    {
     "name": "stdout",
     "output_type": "stream",
     "text": [
      "36 352263 FAILED\n"
     ]
    },
    {
     "name": "stderr",
     "output_type": "stream",
     "text": [
      "Thing 199792 ForumList grep: 100%|██████████| 10/10 [12:55<00:00, 77.53s/it]\n"
     ]
    },
    {
     "name": "stdout",
     "output_type": "stream",
     "text": [
      "37 199792 SUCCESS"
     ]
    },
    {
     "name": "stderr",
     "output_type": "stream",
     "text": [
      "Thing 318560 ForumList grep: 100%|██████████| 10/10 [03:10<00:00, 19.09s/it]\n"
     ]
    },
    {
     "name": "stdout",
     "output_type": "stream",
     "text": [
      "38 318560 SUCCESS"
     ]
    },
    {
     "name": "stderr",
     "output_type": "stream",
     "text": [
      "Thing 352697 ForumList grep: 100%|██████████| 10/10 [01:32<00:00,  9.25s/it]\n"
     ]
    },
    {
     "name": "stdout",
     "output_type": "stream",
     "text": [
      "39 352697 SUCCESS"
     ]
    },
    {
     "name": "stderr",
     "output_type": "stream",
     "text": [
      "Thing 331571 ForumList grep: 100%|██████████| 10/10 [01:05<00:00,  6.58s/it]\n",
      "Thing 246900 ForumList grep:   0%|          | 0/10 [00:00<?, ?it/s]"
     ]
    },
    {
     "name": "stdout",
     "output_type": "stream",
     "text": [
      "40 331571 SUCCESS"
     ]
    },
    {
     "name": "stderr",
     "output_type": "stream",
     "text": [
      "Thing 246900 ForumList grep: 100%|██████████| 10/10 [12:48<00:00, 76.84s/it]\n"
     ]
    },
    {
     "name": "stdout",
     "output_type": "stream",
     "text": [
      "41 246900 SUCCESS"
     ]
    },
    {
     "name": "stderr",
     "output_type": "stream",
     "text": [
      "Thing 256680 ForumList grep: 100%|██████████| 10/10 [08:32<00:00, 51.25s/it]\n",
      "Thing 169786 ForumList grep:   0%|          | 0/10 [00:00<?, ?it/s]"
     ]
    },
    {
     "name": "stdout",
     "output_type": "stream",
     "text": [
      "42 256680 SUCCESS"
     ]
    },
    {
     "name": "stderr",
     "output_type": "stream",
     "text": [
      "Thing 169786 ForumList grep: 100%|██████████| 10/10 [16:13<00:00, 97.40s/it]\n",
      "Thing 167355 ForumList grep:   0%|          | 0/10 [00:00<?, ?it/s]"
     ]
    },
    {
     "name": "stdout",
     "output_type": "stream",
     "text": [
      "43 169786 SUCCESS"
     ]
    },
    {
     "name": "stderr",
     "output_type": "stream",
     "text": [
      "Thing 167355 ForumList grep:  30%|███       | 3/10 [06:55<16:10, 138.57s/it]\n"
     ]
    },
    {
     "name": "stdout",
     "output_type": "stream",
     "text": [
      "44 167355 FAILED\n"
     ]
    },
    {
     "name": "stderr",
     "output_type": "stream",
     "text": [
      "Thing 356033 ForumList grep: 100%|██████████| 10/10 [05:53<00:00, 35.31s/it]\n",
      "Thing 291457 ForumList grep:   0%|          | 0/10 [00:00<?, ?it/s]"
     ]
    },
    {
     "name": "stdout",
     "output_type": "stream",
     "text": [
      "45 356033 SUCCESS"
     ]
    },
    {
     "name": "stderr",
     "output_type": "stream",
     "text": [
      "Thing 291457 ForumList grep: 100%|██████████| 10/10 [11:04<00:00, 66.47s/it]\n"
     ]
    },
    {
     "name": "stdout",
     "output_type": "stream",
     "text": [
      "46 291457 SUCCESS"
     ]
    },
    {
     "name": "stderr",
     "output_type": "stream",
     "text": [
      "Thing 255984 ForumList grep: 100%|██████████| 10/10 [09:16<00:00, 55.64s/it]\n",
      "Thing 244521 ForumList grep:   0%|          | 0/10 [00:00<?, ?it/s]"
     ]
    },
    {
     "name": "stdout",
     "output_type": "stream",
     "text": [
      "47 255984 SUCCESS"
     ]
    },
    {
     "name": "stderr",
     "output_type": "stream",
     "text": [
      "Thing 244521 ForumList grep: 100%|██████████| 10/10 [09:02<00:00, 54.21s/it]"
     ]
    },
    {
     "name": "stdout",
     "output_type": "stream",
     "text": [
      "48 244521 SUCCESS"
     ]
    },
    {
     "name": "stderr",
     "output_type": "stream",
     "text": [
      "\n"
     ]
    }
   ],
   "source": [
    "games = bgg_session.get_hotest(BoardGame)\n",
    "\n",
    "for i, game in enumerate(games):\n",
    "    try:\n",
    "        forumlist = bgg_session.get_forumlist(game.id)\n",
    "        game.load_forumlist(forumlist)\n",
    "\n",
    "        with open(os.path.join(SNAPSHOT_PATH, game.id), 'wb') as output_stream:\n",
    "            pickle.dump(game, output_stream)\n",
    "        print(i, game.id, 'SUCCESS', end='')\n",
    "    except BaseException as exc:\n",
    "        print(i, game.id, 'FAILED')"
   ]
  },
  {
   "cell_type": "code",
   "execution_count": 33,
   "id": "8f45e4c4",
   "metadata": {},
   "outputs": [
    {
     "name": "stdout",
     "output_type": "stream",
     "text": [
      "0 205637 FAILED\n"
     ]
    },
    {
     "name": "stderr",
     "output_type": "stream",
     "text": [
      "Thing 174430 ForumList grep:  80%|████████  | 8/10 [17:15<04:18, 129.46s/it]\n"
     ]
    },
    {
     "name": "stdout",
     "output_type": "stream",
     "text": [
      "1 174430 FAILED\n"
     ]
    },
    {
     "name": "stderr",
     "output_type": "stream",
     "text": [
      "Thing 352263 ForumList grep: 100%|██████████| 10/10 [02:20<00:00, 14.03s/it]\n"
     ]
    },
    {
     "name": "stdout",
     "output_type": "stream",
     "text": [
      "2 352263 SUCCESS"
     ]
    },
    {
     "name": "stderr",
     "output_type": "stream",
     "text": [
      "Thing 167355 ForumList grep:  30%|███       | 3/10 [06:53<16:04, 137.75s/it]"
     ]
    },
    {
     "name": "stdout",
     "output_type": "stream",
     "text": [
      "3 167355 FAILED\n"
     ]
    },
    {
     "name": "stderr",
     "output_type": "stream",
     "text": [
      "\n"
     ]
    }
   ],
   "source": [
    "for i, game in enumerate([games[24], games[28], games[36], games[44]]):\n",
    "    try:\n",
    "        forumlist = bgg_session.get_forumlist(game.id)\n",
    "        game.load_forumlist(forumlist)\n",
    "\n",
    "        with open(os.path.join(SNAPSHOT_PATH, game.id), 'wb') as output_stream:\n",
    "            pickle.dump(game, output_stream)\n",
    "        print(i, game.id, 'SUCCESS', end='')\n",
    "    except BaseException as exc:\n",
    "        print(i, game.id, 'FAILED')"
   ]
  },
  {
   "cell_type": "markdown",
   "id": "12d05a41",
   "metadata": {},
   "source": [
    "---"
   ]
  },
  {
   "cell_type": "code",
   "execution_count": null,
   "id": "9a310e58",
   "metadata": {},
   "outputs": [],
   "source": [
    "users = list()\n",
    "for game in games_trunc:\n",
    "    for title, forum in game.items():\n",
    "        for thread in forum.threads:\n",
    "            users.extend(set([post[0] for post in thread.posts]))"
   ]
  },
  {
   "cell_type": "code",
   "execution_count": null,
   "id": "903c5855",
   "metadata": {},
   "outputs": [],
   "source": [
    "len(users)"
   ]
  },
  {
   "cell_type": "code",
   "execution_count": null,
   "id": "dd1e4b79",
   "metadata": {},
   "outputs": [],
   "source": [
    "len(set(users))"
   ]
  },
  {
   "cell_type": "code",
   "execution_count": null,
   "id": "cbb734c7",
   "metadata": {},
   "outputs": [],
   "source": [
    "game.items()"
   ]
  },
  {
   "cell_type": "markdown",
   "id": "4d8af61a",
   "metadata": {},
   "source": [
    "---"
   ]
  }
 ],
 "metadata": {
  "kernelspec": {
   "display_name": "Python 3",
   "language": "python",
   "name": "python3"
  },
  "language_info": {
   "codemirror_mode": {
    "name": "ipython",
    "version": 3
   },
   "file_extension": ".py",
   "mimetype": "text/x-python",
   "name": "python",
   "nbconvert_exporter": "python",
   "pygments_lexer": "ipython3",
   "version": "3.8.8"
  }
 },
 "nbformat": 4,
 "nbformat_minor": 5
}
