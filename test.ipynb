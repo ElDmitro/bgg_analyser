{
 "cells": [
  {
   "cell_type": "code",
   "execution_count": 1,
   "id": "03996a3f",
   "metadata": {},
   "outputs": [],
   "source": [
    "from bgg_client import BggSession, BoardGame"
   ]
  },
  {
   "cell_type": "code",
   "execution_count": 11,
   "id": "18cddfbe",
   "metadata": {},
   "outputs": [],
   "source": [
    "from bgg_client.utils.serialization import load_struct"
   ]
  },
  {
   "cell_type": "code",
   "execution_count": 9,
   "id": "eed7049a",
   "metadata": {},
   "outputs": [],
   "source": [
    "from tqdm import tqdm"
   ]
  },
  {
   "cell_type": "code",
   "execution_count": 2,
   "id": "1ebe9242",
   "metadata": {},
   "outputs": [],
   "source": [
    "bgg_session = BggSession()"
   ]
  },
  {
   "cell_type": "code",
   "execution_count": 4,
   "id": "5121a12a",
   "metadata": {},
   "outputs": [],
   "source": [
    "t = bgg_session.get_hotest(BoardGame)"
   ]
  },
  {
   "cell_type": "code",
   "execution_count": 31,
   "id": "ee463af8",
   "metadata": {},
   "outputs": [],
   "source": [
    "games = load_struct('games.pkl')"
   ]
  },
  {
   "cell_type": "code",
   "execution_count": 12,
   "id": "c673425f",
   "metadata": {},
   "outputs": [],
   "source": [
    "users_threads = load_struct('_users_rating', './snapshot')"
   ]
  },
  {
   "cell_type": "code",
   "execution_count": 14,
   "id": "7c2cdabc",
   "metadata": {},
   "outputs": [],
   "source": [
    "ids = [game.id for game in games]"
   ]
  },
  {
   "cell_type": "code",
   "execution_count": 17,
   "id": "c5831a9c",
   "metadata": {},
   "outputs": [],
   "source": [
    "import os"
   ]
  },
  {
   "cell_type": "code",
   "execution_count": 19,
   "id": "d4e5c2e7",
   "metadata": {},
   "outputs": [
    {
     "ename": "AttributeError",
     "evalue": "Can't get attribute 'Forum' on <module '__main__'>",
     "output_type": "error",
     "traceback": [
      "\u001b[0;31m---------------------------------------------------------------------------\u001b[0m",
      "\u001b[0;31mAttributeError\u001b[0m                            Traceback (most recent call last)",
      "\u001b[0;32m<ipython-input-19-2db90cbc3468>\u001b[0m in \u001b[0;36m<module>\u001b[0;34m\u001b[0m\n\u001b[1;32m      4\u001b[0m         \u001b[0;32mcontinue\u001b[0m\u001b[0;34m\u001b[0m\u001b[0;34m\u001b[0m\u001b[0m\n\u001b[1;32m      5\u001b[0m \u001b[0;34m\u001b[0m\u001b[0m\n\u001b[0;32m----> 6\u001b[0;31m     \u001b[0mgames\u001b[0m\u001b[0;34m.\u001b[0m\u001b[0mappend\u001b[0m\u001b[0;34m(\u001b[0m\u001b[0mload_struct\u001b[0m\u001b[0;34m(\u001b[0m\u001b[0mfilename\u001b[0m\u001b[0;34m,\u001b[0m \u001b[0;34m'./snapshot/'\u001b[0m\u001b[0;34m)\u001b[0m\u001b[0;34m)\u001b[0m\u001b[0;34m\u001b[0m\u001b[0;34m\u001b[0m\u001b[0m\n\u001b[0m",
      "\u001b[0;32m~/notebook/na_course/bgg_analyser/bgg_client/utils/serialization.py\u001b[0m in \u001b[0;36mload_struct\u001b[0;34m(filename, root_dir)\u001b[0m\n\u001b[1;32m     11\u001b[0m \u001b[0;32mdef\u001b[0m \u001b[0mload_struct\u001b[0m\u001b[0;34m(\u001b[0m\u001b[0mfilename\u001b[0m\u001b[0;34m,\u001b[0m \u001b[0mroot_dir\u001b[0m\u001b[0;34m=\u001b[0m\u001b[0mSNAPSHOT_PATH\u001b[0m\u001b[0;34m)\u001b[0m\u001b[0;34m:\u001b[0m\u001b[0;34m\u001b[0m\u001b[0;34m\u001b[0m\u001b[0m\n\u001b[1;32m     12\u001b[0m     \u001b[0;32mwith\u001b[0m \u001b[0mopen\u001b[0m\u001b[0;34m(\u001b[0m\u001b[0mroot_dir\u001b[0m \u001b[0;34m+\u001b[0m \u001b[0;34m'/'\u001b[0m \u001b[0;34m+\u001b[0m \u001b[0mfilename\u001b[0m\u001b[0;34m,\u001b[0m \u001b[0;34m'rb'\u001b[0m\u001b[0;34m)\u001b[0m \u001b[0;32mas\u001b[0m \u001b[0minput_stream\u001b[0m\u001b[0;34m:\u001b[0m\u001b[0;34m\u001b[0m\u001b[0;34m\u001b[0m\u001b[0m\n\u001b[0;32m---> 13\u001b[0;31m         \u001b[0;32mreturn\u001b[0m \u001b[0mpickle\u001b[0m\u001b[0;34m.\u001b[0m\u001b[0mload\u001b[0m\u001b[0;34m(\u001b[0m\u001b[0minput_stream\u001b[0m\u001b[0;34m)\u001b[0m\u001b[0;34m\u001b[0m\u001b[0;34m\u001b[0m\u001b[0m\n\u001b[0m",
      "\u001b[0;31mAttributeError\u001b[0m: Can't get attribute 'Forum' on <module '__main__'>"
     ]
    }
   ],
   "source": [
    "games = list()\n",
    "for filename in os.listdir('./snapshot/'):\n",
    "    if filename.startswith('_'):\n",
    "        continue\n",
    "        \n",
    "    games.append(load_struct(filename, './snapshot/'))"
   ]
  },
  {
   "cell_type": "code",
   "execution_count": null,
   "id": "af302612",
   "metadata": {},
   "outputs": [],
   "source": []
  }
 ],
 "metadata": {
  "kernelspec": {
   "display_name": "Python 3",
   "language": "python",
   "name": "python3"
  },
  "language_info": {
   "codemirror_mode": {
    "name": "ipython",
    "version": 3
   },
   "file_extension": ".py",
   "mimetype": "text/x-python",
   "name": "python",
   "nbconvert_exporter": "python",
   "pygments_lexer": "ipython3",
   "version": "3.8.8"
  }
 },
 "nbformat": 4,
 "nbformat_minor": 5
}
